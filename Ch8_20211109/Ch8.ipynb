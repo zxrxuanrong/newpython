{
 "cells": [
  {
   "cell_type": "markdown",
   "id": "48034edf",
   "metadata": {},
   "source": [
    "## 回文"
   ]
  },
  {
   "cell_type": "code",
   "execution_count": 1,
   "id": "e39d1c58",
   "metadata": {},
   "outputs": [
    {
     "name": "stdout",
     "output_type": "stream",
     "text": [
      "請輸入ABA\n",
      "請輸入CAC\n",
      "請輸入GIAA\n",
      "請輸入0\n",
      "清單內容:\n",
      "['ABA', 'CAC', 'GIAA']\n",
      "符合回文字串:\n",
      "['ABA', 'CAC']\n"
     ]
    }
   ],
   "source": [
    "keyIn=''\n",
    "inputList = []\n",
    "passList = []\n",
    "while True :\n",
    "    keyIn = input(\"請輸入\")\n",
    "    if keyIn=='0': break\n",
    "    inputList.append(keyIn)\n",
    "    if keyIn == keyIn[::-1]:\n",
    "        passList.append(keyIn)\n",
    "print(\"清單內容:\")         \n",
    "print(inputList)\n",
    "print(\"符合回文字串:\")         \n",
    "print(passList)   "
   ]
  },
  {
   "cell_type": "markdown",
   "id": "7d4920a7",
   "metadata": {},
   "source": [
    "## 模組"
   ]
  },
  {
   "cell_type": "code",
   "execution_count": 1,
   "id": "7316bc62",
   "metadata": {},
   "outputs": [
    {
     "name": "stdout",
     "output_type": "stream",
     "text": [
      "modu\n",
      "Create\n",
      "func 1\n"
     ]
    }
   ],
   "source": [
    "import modu\n",
    "obj1 = modu.test1()\n",
    "modu.fun1()"
   ]
  },
  {
   "cell_type": "markdown",
   "id": "7f16d93b",
   "metadata": {},
   "source": [
    "## 套件\n",
    "+ 套件內可以有多個模組。\n",
    "+ 套件名稱是資料夾名稱。\n",
    "+ 建立一個叫做 happy 的資料夾，裡面放了一個 __init__.py 的空檔案。\n",
    "+ 每個套件裡都必須存在 __init__.py 這個檔案，它的目的就是告訴Python 說這個資料夾請把它當做套件來對待。\n",
    "+ __init__.py 可以是空的，也可以放一些變數或程式在裡面。\n"
   ]
  },
  {
   "cell_type": "code",
   "execution_count": 4,
   "id": "68ec93c7",
   "metadata": {},
   "outputs": [
    {
     "name": "stdout",
     "output_type": "stream",
     "text": [
      "Happy Python!!\n",
      "Happy Python!!\n",
      "Happy Python!!\n"
     ]
    }
   ],
   "source": [
    "import happy.my_mod as hym #別名\n",
    "happy.my_mod.happy_python()\n",
    "hnw.testWeb()\n",
    "hym.happy_python()\n",
    "from happy.my_mod import happy_python\n",
    "happy_python()"
   ]
  },
  {
   "cell_type": "markdown",
   "id": "a1461bb4",
   "metadata": {},
   "source": [
    "# 呼叫內建模組函數"
   ]
  },
  {
   "cell_type": "markdown",
   "id": "d456871a",
   "metadata": {},
   "source": [
    "## 亂數\n",
    "+ 必須加入 import  random 語法。\n",
    "+ 隨機整數：0 到 100 之間(包含100)，請加入 random.randint(0,100) 語法。\n",
    "+ 隨機數值：請加入random.random ( ) 語法。\n",
    "+ 隨機選取 0 到100 間的偶數(固定間隔)，請加入 random.randrange(0, 101, 2) 語法。"
   ]
  },
  {
   "cell_type": "code",
   "execution_count": 13,
   "id": "ce0e0a10",
   "metadata": {},
   "outputs": [
    {
     "name": "stdout",
     "output_type": "stream",
     "text": [
      "9\n",
      "68\n",
      "0.02853186350327075\n"
     ]
    }
   ],
   "source": [
    "import random\n",
    "a = random.randint(0,100)\n",
    "print(a)\n",
    "b = random.randrange(0,101,2)\n",
    "print(b)\n",
    "c = random.random()\n",
    "print(c)"
   ]
  },
  {
   "cell_type": "code",
   "execution_count": 22,
   "id": "4047b0fb",
   "metadata": {},
   "outputs": [
    {
     "name": "stdout",
     "output_type": "stream",
     "text": [
      "[5, 16, 10, 20]\n",
      "['e', 'g', 'a']\n",
      "Python\n"
     ]
    }
   ],
   "source": [
    "import random\n",
    "ranList = [20,16,10,5]\n",
    "random.shuffle(ranList)\n",
    "print(ranList)\n",
    "a = random.sample('abcdefghij',3)\n",
    "print(a)\n",
    "b = random.choice(['Apple','Java','Python','PHP'])\n",
    "print(b)\n"
   ]
  },
  {
   "cell_type": "markdown",
   "id": "c8bedbc2",
   "metadata": {},
   "source": [
    "## 數學函數\n",
    "+ 以下幾個函數必須引用 math 模組：\n",
    "  + sqrt(x)\t              x的平方根（x>0）\n",
    "  + pow(x, y)\t              x的y次方 的值\n",
    "  + ceil(x)\t取出不小於 x 的最小整數\n",
    "  + floor(x)\t取出不大於 x 的最大整數"
   ]
  },
  {
   "cell_type": "code",
   "execution_count": 27,
   "id": "af7c73da",
   "metadata": {},
   "outputs": [
    {
     "name": "stdout",
     "output_type": "stream",
     "text": [
      "80.46\n",
      "80\n",
      "-57\n",
      "81\n",
      "-52\n"
     ]
    }
   ],
   "source": [
    "import math\n",
    "# 返回浮点数x的四舍五入值。\n",
    "a = round(80.456,2)\n",
    "print(a)\n",
    "# 取得小於最接近的數 取出不大於 x 的最大整數\n",
    "a = math.floor(80.456)\n",
    "print(a)\n",
    "a =  math.floor(-56.1)\n",
    "print(a)\n",
    "# ceil取比x大一點的數 取出不小於 x 的最小整數\n",
    "a = math.ceil(80.456)\n",
    "print(a)\n",
    "a = math.ceil(-52.32)\n",
    "print(a)"
   ]
  },
  {
   "cell_type": "markdown",
   "id": "dcce844f",
   "metadata": {},
   "source": [
    "# Python 程式偵錯\n",
    "\n",
    "+ Syntax Errors 語法錯誤\n",
    " + 該行語法錯誤，Python 無法編譯執行。\n",
    " + 修正語法錯誤\n",
    "+ Exception 例外\n",
    " + 語法撰寫上沒有錯誤，執行時因資料邏輯或外部系統狀態發生錯誤， Python 會引發例外(Exception) \n",
    " + 如果例外沒有被處理而傳遞到Python直譯器，程式中斷執行\n"
   ]
  },
  {
   "cell_type": "code",
   "execution_count": 32,
   "id": "db061159",
   "metadata": {},
   "outputs": [
    {
     "name": "stdout",
     "output_type": "stream",
     "text": [
      "10.0\n"
     ]
    }
   ],
   "source": [
    "num1 = 10\n",
    "num2 = 1\n",
    "nums = [1,3,5,7,9]\n",
    "#print(num1 * num3) NameError: name 'num3' is not defined\n",
    "print(num1/num2)\n",
    "# print(num1/(num2-1))#ZeroDivisionError \n",
    "# print(nums[100]) #IndexError: list index out of range"
   ]
  },
  {
   "cell_type": "code",
   "execution_count": 42,
   "id": "56033a9b",
   "metadata": {},
   "outputs": [
    {
     "name": "stdout",
     "output_type": "stream",
     "text": [
      "10.0\n",
      "IndexError Index超過範圍\n",
      "finally!!\n"
     ]
    }
   ],
   "source": [
    "num1 = 10\n",
    "num2 = 1\n",
    "nums = [1,3,5,7,9]\n",
    "try:\n",
    "    print(num1/num2)\n",
    "    #print(num1 * num3)\n",
    "    print(nums[100])\n",
    "    print(\"Hello!\")\n",
    "except  ZeroDivisionError:\n",
    "    print(\"Error 分母不可為0 \")\n",
    "except NameError:\n",
    "      print(\"NameError 使用沒宣告的變數\")\n",
    "except IndexError:\n",
    "     print(\"IndexError Index超過範圍\")\n",
    "else:\n",
    "     print(\"無錯誤!\")\n",
    "finally:\n",
    "     print(\"finally!!\")"
   ]
  },
  {
   "cell_type": "markdown",
   "id": "e2e5a15d",
   "metadata": {},
   "source": [
    "## try finally\n",
    "+ finally 區塊代表不論 try 區塊執行後一定要執行的區塊。\n",
    "  + 不論有沒有產生例外，例外有沒有被處理都會執行\n",
    "  + 程式中產生的例外沒有被處理而導致中斷，finally 區塊會在中斷前執行。"
   ]
  },
  {
   "cell_type": "code",
   "execution_count": 45,
   "id": "3592951a",
   "metadata": {},
   "outputs": [
    {
     "name": "stdout",
     "output_type": "stream",
     "text": [
      "Error 分母不可為0 或 Index超過範圍 \n",
      "finally!!\n"
     ]
    }
   ],
   "source": [
    "num1 = 10\n",
    "num2 = 0\n",
    "nums = [1,3,5,7,9]\n",
    "try:\n",
    "    #print(num1/num2)\n",
    "    #print(num1 * num3)\n",
    "    print(nums[100])\n",
    "    print(\"Hello!\")\n",
    "except  (ZeroDivisionError,IndexError):\n",
    "    print(\"Error 分母不可為0 或 Index超過範圍 \")\n",
    "except NameError:\n",
    "      print(\"NameError 使用沒宣告的變數\")\n",
    "else:\n",
    "     print(\"無錯誤!\")\n",
    "finally:\n",
    "     print(\"finally!!\")"
   ]
  },
  {
   "attachments": {},
   "cell_type": "markdown",
   "id": "c1472abc",
   "metadata": {},
   "source": [
    "## try else\n",
    "+ else 區塊代表 try 區塊沒有產生例外時執行的區塊。\n",
    "+ 如果 else 區塊內產生例外狀況仍會造成程式中斷。\n"
   ]
  },
  {
   "cell_type": "code",
   "execution_count": 50,
   "id": "2edda0f6",
   "metadata": {},
   "outputs": [
    {
     "name": "stdout",
     "output_type": "stream",
     "text": [
      "發生錯誤\n"
     ]
    }
   ],
   "source": [
    "num1 = 10\n",
    "num2 = 0\n",
    "nums = [1,3,5,7,9]\n",
    "try:\n",
    "    print(num3)\n",
    "except:\n",
    "    print(\"發生錯誤\")\n",
    "else:\n",
    "    print(\"沒發生錯誤\")"
   ]
  },
  {
   "cell_type": "code",
   "execution_count": 55,
   "id": "89fa8276",
   "metadata": {},
   "outputs": [
    {
     "name": "stdout",
     "output_type": "stream",
     "text": [
      "10\n",
      "結束\n"
     ]
    },
    {
     "ename": "NameError",
     "evalue": "name 'num3' is not defined",
     "output_type": "error",
     "traceback": [
      "\u001b[1;31m---------------------------------------------------------------------------\u001b[0m",
      "\u001b[1;31mNameError\u001b[0m                                 Traceback (most recent call last)",
      "\u001b[1;32m~\\AppData\\Local\\Temp/ipykernel_16032/4244773416.py\u001b[0m in \u001b[0;36m<module>\u001b[1;34m\u001b[0m\n\u001b[0;32m      7\u001b[0m     \u001b[0mprint\u001b[0m\u001b[1;33m(\u001b[0m\u001b[1;34m\"發生錯誤\"\u001b[0m\u001b[1;33m)\u001b[0m\u001b[1;33m\u001b[0m\u001b[1;33m\u001b[0m\u001b[0m\n\u001b[0;32m      8\u001b[0m \u001b[1;32melse\u001b[0m\u001b[1;33m:\u001b[0m\u001b[1;33m\u001b[0m\u001b[1;33m\u001b[0m\u001b[0m\n\u001b[1;32m----> 9\u001b[1;33m     \u001b[0mprint\u001b[0m\u001b[1;33m(\u001b[0m\u001b[0mnum1\u001b[0m\u001b[1;33m/\u001b[0m\u001b[0mnum3\u001b[0m\u001b[1;33m)\u001b[0m\u001b[1;31m#沒執行到不知道有錯誤\u001b[0m\u001b[1;33m\u001b[0m\u001b[1;33m\u001b[0m\u001b[0m\n\u001b[0m\u001b[0;32m     10\u001b[0m     \u001b[0mprint\u001b[0m\u001b[1;33m(\u001b[0m\u001b[1;34m\"沒發生錯誤\"\u001b[0m\u001b[1;33m)\u001b[0m\u001b[1;33m\u001b[0m\u001b[1;33m\u001b[0m\u001b[0m\n\u001b[0;32m     11\u001b[0m \u001b[1;32mfinally\u001b[0m\u001b[1;33m:\u001b[0m\u001b[1;33m\u001b[0m\u001b[1;33m\u001b[0m\u001b[0m\n",
      "\u001b[1;31mNameError\u001b[0m: name 'num3' is not defined"
     ]
    }
   ],
   "source": [
    "num1 = 10\n",
    "num2 = 0\n",
    "nums = [1,3,5,7,9]\n",
    "try:\n",
    "    print(num1)\n",
    "except:\n",
    "    print(\"發生錯誤\")\n",
    "else:\n",
    "    print(num1/num3)#沒執行到不知道有錯誤\n",
    "    print(\"沒發生錯誤\") \n",
    "finally:\n",
    "    print(\"結束\") "
   ]
  },
  {
   "cell_type": "markdown",
   "id": "d3b7f5b9",
   "metadata": {},
   "source": [
    "## 例外物件使用\n",
    "+ 取得例外物件資訊\n",
    " + except捕捉到例外後，將例外物件指定給變數\n",
    " + 使用 type(), str() 取得物件資訊\n",
    "    except ValueError as e：\n",
    "    print(type(e), str(e))\n",
    " + 多個例外使用相同處理邏輯用，隔開 except ValueError, ZeroDivisionError as e：\n",
    "+ sys.exc_info()方法取得進階的例外資訊 \n",
    "   + 傳回一個Tuple物件\n",
    "   + 包括三個內容\n",
    "     + 例外的類型、例外訊息以及traceback物件"
   ]
  },
  {
   "cell_type": "code",
   "execution_count": 57,
   "id": "41904a8b",
   "metadata": {},
   "outputs": [
    {
     "name": "stdout",
     "output_type": "stream",
     "text": [
      "division by zero\n",
      "<class 'ZeroDivisionError'>\n",
      "division by zero\n",
      "Error 發生\n",
      "結束\n"
     ]
    }
   ],
   "source": [
    "num1 = 10\n",
    "num2 = 0\n",
    "try:\n",
    "    num1 / num2\n",
    "except ZeroDivisionError as ex:    \n",
    "    print(ex)\n",
    "    print(type(ex))\n",
    "    print(\"Error 發生\")\n",
    "finally:\n",
    "    print(\"結束\")"
   ]
  },
  {
   "cell_type": "code",
   "execution_count": 64,
   "id": "57bfef6c",
   "metadata": {},
   "outputs": [
    {
     "name": "stdout",
     "output_type": "stream",
     "text": [
      "<class 'ZeroDivisionError'>\n",
      "division by zero\n",
      "<traceback object at 0x0000016488943C80>\n",
      "結束\n"
     ]
    },
    {
     "name": "stderr",
     "output_type": "stream",
     "text": [
      "  File \"C:\\Users\\xvpow\\AppData\\Local\\Temp/ipykernel_16032/3193420983.py\", line 7, in <module>\n",
      "    print(num1/num2)\n"
     ]
    }
   ],
   "source": [
    "import sys\n",
    "import traceback\n",
    "num1 = 10\n",
    "num2 = 0\n",
    "try:\n",
    "    #num3 += 2\n",
    "    print(num1/num2)\n",
    "except:\n",
    "    cls,msg,trace = sys.exc_info()#取得更多異常訊息\n",
    "    print(cls)    \n",
    "    print(msg)    \n",
    "    print(trace)   \n",
    "    traceback.print_tb(trace) #輸出trace訊息\n",
    "finally:\n",
    "    print(\"結束\")"
   ]
  },
  {
   "cell_type": "code",
   "execution_count": null,
   "id": "d188fe43",
   "metadata": {},
   "outputs": [],
   "source": []
  }
 ],
 "metadata": {
  "kernelspec": {
   "display_name": "Python 3 (ipykernel)",
   "language": "python",
   "name": "python3"
  },
  "language_info": {
   "codemirror_mode": {
    "name": "ipython",
    "version": 3
   },
   "file_extension": ".py",
   "mimetype": "text/x-python",
   "name": "python",
   "nbconvert_exporter": "python",
   "pygments_lexer": "ipython3",
   "version": "3.8.11"
  }
 },
 "nbformat": 4,
 "nbformat_minor": 5
}
