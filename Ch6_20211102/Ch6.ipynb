{
 "cells": [
  {
   "cell_type": "markdown",
   "id": "04ba3c2f",
   "metadata": {},
   "source": [
    "# 函數"
   ]
  },
  {
   "cell_type": "markdown",
   "id": "c8630923",
   "metadata": {},
   "source": [
    "## 變數影響範圍\n",
    "+ 函數外的變數：\n",
    "  + 函數內可以顯示該變數內容\n",
    "  + 不屬於函數的區域內都可以使用\n",
    "+ 函數內的變數：\n",
    "  + 只在函數內產生效果，不會影響函數外的變數\n",
    "  + 若函數內沒有進行變數宣告而進行改變內容動作將會產生錯誤訊息!"
   ]
  },
  {
   "cell_type": "code",
   "execution_count": 1,
   "id": "933d6b91",
   "metadata": {},
   "outputs": [
    {
     "name": "stdout",
     "output_type": "stream",
     "text": [
      "函數外1: 5\n",
      "函數內: 10\n",
      "函數外2: 5\n"
     ]
    }
   ],
   "source": [
    "a = 5\n",
    "def func_sum():    \n",
    "    a = 10\n",
    "    print(\"函數內:\",a)\n",
    "print(\"函數外1:\",a)\n",
    "func_sum()\n",
    "print(\"函數外2:\",a)\n"
   ]
  },
  {
   "cell_type": "code",
   "execution_count": 16,
   "id": "14d0ee24",
   "metadata": {},
   "outputs": [
    {
     "name": "stdout",
     "output_type": "stream",
     "text": [
      "a: 5\n"
     ]
    },
    {
     "ename": "UnboundLocalError",
     "evalue": "local variable 'a' referenced before assignment",
     "output_type": "error",
     "traceback": [
      "\u001b[1;31m---------------------------------------------------------------------------\u001b[0m",
      "\u001b[1;31mUnboundLocalError\u001b[0m                         Traceback (most recent call last)",
      "\u001b[1;32m~\\AppData\\Local\\Temp/ipykernel_7888/190765182.py\u001b[0m in \u001b[0;36m<module>\u001b[1;34m\u001b[0m\n\u001b[0;32m      3\u001b[0m     \u001b[0ma\u001b[0m \u001b[1;33m+=\u001b[0m \u001b[1;36m1\u001b[0m \u001b[1;31m#會產生錯誤 因為在func內沒宣告 a\u001b[0m\u001b[1;33m\u001b[0m\u001b[1;33m\u001b[0m\u001b[0m\n\u001b[0;32m      4\u001b[0m \u001b[0mprint\u001b[0m\u001b[1;33m(\u001b[0m\u001b[1;34m\"a:\"\u001b[0m\u001b[1;33m,\u001b[0m\u001b[0ma\u001b[0m\u001b[1;33m)\u001b[0m\u001b[1;33m\u001b[0m\u001b[1;33m\u001b[0m\u001b[0m\n\u001b[1;32m----> 5\u001b[1;33m \u001b[0mfunc_sum2\u001b[0m\u001b[1;33m(\u001b[0m\u001b[1;33m)\u001b[0m\u001b[1;33m\u001b[0m\u001b[1;33m\u001b[0m\u001b[0m\n\u001b[0m\u001b[0;32m      6\u001b[0m \u001b[0mprint\u001b[0m\u001b[1;33m(\u001b[0m\u001b[1;34m\"a:\"\u001b[0m\u001b[1;33m,\u001b[0m\u001b[0ma\u001b[0m\u001b[1;33m)\u001b[0m\u001b[1;33m\u001b[0m\u001b[1;33m\u001b[0m\u001b[0m\n",
      "\u001b[1;32m~\\AppData\\Local\\Temp/ipykernel_7888/190765182.py\u001b[0m in \u001b[0;36mfunc_sum2\u001b[1;34m()\u001b[0m\n\u001b[0;32m      1\u001b[0m \u001b[0ma\u001b[0m \u001b[1;33m=\u001b[0m \u001b[1;36m5\u001b[0m\u001b[1;33m\u001b[0m\u001b[1;33m\u001b[0m\u001b[0m\n\u001b[0;32m      2\u001b[0m \u001b[1;32mdef\u001b[0m \u001b[0mfunc_sum2\u001b[0m\u001b[1;33m(\u001b[0m\u001b[1;33m)\u001b[0m\u001b[1;33m:\u001b[0m\u001b[1;33m\u001b[0m\u001b[1;33m\u001b[0m\u001b[0m\n\u001b[1;32m----> 3\u001b[1;33m     \u001b[0ma\u001b[0m \u001b[1;33m+=\u001b[0m \u001b[1;36m1\u001b[0m \u001b[1;31m#會產生錯誤 因為在func內沒宣告 a\u001b[0m\u001b[1;33m\u001b[0m\u001b[1;33m\u001b[0m\u001b[0m\n\u001b[0m\u001b[0;32m      4\u001b[0m \u001b[0mprint\u001b[0m\u001b[1;33m(\u001b[0m\u001b[1;34m\"a:\"\u001b[0m\u001b[1;33m,\u001b[0m\u001b[0ma\u001b[0m\u001b[1;33m)\u001b[0m\u001b[1;33m\u001b[0m\u001b[1;33m\u001b[0m\u001b[0m\n\u001b[0;32m      5\u001b[0m \u001b[0mfunc_sum2\u001b[0m\u001b[1;33m(\u001b[0m\u001b[1;33m)\u001b[0m\u001b[1;33m\u001b[0m\u001b[1;33m\u001b[0m\u001b[0m\n",
      "\u001b[1;31mUnboundLocalError\u001b[0m: local variable 'a' referenced before assignment"
     ]
    }
   ],
   "source": [
    "a = 5\n",
    "def func_sum2():    \n",
    "    a += 1 #會產生錯誤 因為在func內沒宣告 a\n",
    "print(\"a:\",a)    \n",
    "func_sum2()\n",
    "print(\"a:\",a) "
   ]
  },
  {
   "cell_type": "code",
   "execution_count": 15,
   "id": "04496e1f",
   "metadata": {},
   "outputs": [
    {
     "name": "stdout",
     "output_type": "stream",
     "text": [
      "5\n"
     ]
    }
   ],
   "source": [
    "a = 3\n",
    "def func_print():    \n",
    "    b = a + 2\n",
    "    print(b)\n",
    "func_print()   "
   ]
  },
  {
   "cell_type": "markdown",
   "id": "cd3033e5",
   "metadata": {},
   "source": [
    "## global\n",
    "可控制函數外的變數"
   ]
  },
  {
   "cell_type": "code",
   "execution_count": 17,
   "id": "f1cbee0f",
   "metadata": {},
   "outputs": [
    {
     "name": "stdout",
     "output_type": "stream",
     "text": [
      "8\n"
     ]
    }
   ],
   "source": [
    "a = 3\n",
    "def func_test():\n",
    "    global a\n",
    "    a += 5\n",
    "func_test()\n",
    "print(a)"
   ]
  },
  {
   "cell_type": "markdown",
   "id": "0396c4e9",
   "metadata": {},
   "source": [
    "# 輸出格式"
   ]
  },
  {
   "cell_type": "code",
   "execution_count": 24,
   "id": "0f45032e",
   "metadata": {},
   "outputs": [
    {
     "name": "stdout",
     "output_type": "stream",
     "text": [
      "Hello:Ken Age:10\n"
     ]
    }
   ],
   "source": [
    "name = \"Ken\"\n",
    "age = 10\n",
    "str1 = \"Hello:%s Age:%d\" %(name,age)\n",
    "print(str1)"
   ]
  },
  {
   "cell_type": "markdown",
   "id": "6a8019bc",
   "metadata": {},
   "source": [
    "## 不滿n位數補空格"
   ]
  },
  {
   "cell_type": "code",
   "execution_count": 29,
   "id": "0313ab34",
   "metadata": {},
   "outputs": [
    {
     "name": "stdout",
     "output_type": "stream",
     "text": [
      "1*H*\n",
      "2*    H*\n",
      "3*H    *\n",
      "4* H*\n"
     ]
    }
   ],
   "source": [
    "c=\"H\"\n",
    "print(\"1*%c*\"%(c))\n",
    "print(\"2*%5s*\"%(c))\n",
    "print(\"3*%-5s*\"%(c))\n",
    "print(\"4*%2s*\"%(c))"
   ]
  },
  {
   "cell_type": "code",
   "execution_count": 34,
   "id": "a2ac1670",
   "metadata": {},
   "outputs": [
    {
     "name": "stdout",
     "output_type": "stream",
     "text": [
      "5*123.925000\n",
      "6*123.92\n",
      "6* 123.92\n",
      "6*123.92   *\n"
     ]
    }
   ],
   "source": [
    "b = 123.925\n",
    "print(\"5*%f\"%(b))\n",
    "print(\"6*%.2f\"%(b))#會四捨五入\n",
    "print(\"7*%7.2f\"%(b))\n",
    "print(\"8*%-9.2f*\"%(b))"
   ]
  },
  {
   "cell_type": "markdown",
   "id": "2e7d1c60",
   "metadata": {},
   "source": [
    "## decimal"
   ]
  },
  {
   "cell_type": "code",
   "execution_count": 4,
   "id": "2da61023",
   "metadata": {},
   "outputs": [
    {
     "name": "stdout",
     "output_type": "stream",
     "text": [
      "3.3000000000000003\n",
      "<class 'decimal.Decimal'>\n",
      "3.3\n",
      "5.551115123125783e-17\n",
      "0.0\n",
      "8.3\n"
     ]
    }
   ],
   "source": [
    "from decimal import *\n",
    "print(1.1+2.2)\n",
    "print(type(Decimal('2.2')))\n",
    "print(Decimal(\"1.1\") + Decimal('2.2'))\n",
    "print(0.1+0.1+0.1 - 0.3)\n",
    "print(Decimal('0.1') + Decimal('0.1') + Decimal('0.1') - Decimal('0.3'))\n",
    "ans = Decimal(\"1.1\") + Decimal('2.2')\n",
    "print(ans + 5)#正確\n",
    "#print(ans + 1.2)#錯誤"
   ]
  },
  {
   "cell_type": "markdown",
   "id": "b9db056d",
   "metadata": {},
   "source": [
    "## f-string"
   ]
  },
  {
   "cell_type": "code",
   "execution_count": 23,
   "id": "159c9e35",
   "metadata": {},
   "outputs": [
    {
     "name": "stdout",
     "output_type": "stream",
     "text": [
      "v1:12\n",
      "v2:*   36*\n",
      "f1:*  12.57*\n",
      "f1:*12.57  *\n",
      "f1=12.567 \n",
      " v1=12  \n",
      " v2=36\n"
     ]
    }
   ],
   "source": [
    "v1 = 12\n",
    "st1 = f\"v1:{v1}\"\n",
    "print(st1)\n",
    "v2 = 36\n",
    "print(f\"v2:*{v2:5}*\")\n",
    "f1 = 12.567\n",
    "print(f\"f1:*{f1:7.2f}*\")\n",
    "print(f\"f1:*{f1:<7.2f}*\")\n",
    "print(f\"{f1=} \\n {v1=}  \\n {v2=}\")\n"
   ]
  },
  {
   "cell_type": "markdown",
   "id": "ba8378f7",
   "metadata": {},
   "source": [
    "## list 傳送與接收\n",
    "+ 傳送與接收資料可以使用 list。\n",
    "+ 傳送與接收都是相同的位址上的資料。\n",
    "+ list 內可以更新單一資料或著調整\n",
    "   (append、extend、insert、remove、pop、del) 資料。\n",
    "+ list 若以指派方式設定為新的list：\n",
    "  + 資料將會儲存在新的位址。\n",
    "  + 原來 list 沒有變更。"
   ]
  },
  {
   "cell_type": "code",
   "execution_count": 25,
   "id": "b6eed177",
   "metadata": {},
   "outputs": [
    {
     "name": "stdout",
     "output_type": "stream",
     "text": [
      "1655696444672\n",
      "1655696444672\n",
      "1655696444672\n",
      "函數內: [10, 20, 'a']\n",
      "執行完後的函數: [10, 20, 'a']\n"
     ]
    }
   ],
   "source": [
    "def changeme(mylist):\n",
    "    print(id(mylist))\n",
    "    mylist[2] = 'a'\n",
    "    print(id(mylist))\n",
    "    print(\"函數內:\",mylist)\n",
    "outMylist = [10,20,30]    \n",
    "print(id(outMylist))\n",
    "changeme(outMylist)\n",
    "print(\"執行完後的函數:\",outMylist)"
   ]
  },
  {
   "cell_type": "code",
   "execution_count": 26,
   "id": "4666fea7",
   "metadata": {},
   "outputs": [
    {
     "name": "stdout",
     "output_type": "stream",
     "text": [
      "1655696440768\n",
      "1655696440768\n",
      "1655696449920\n",
      "函數內: [1, 2, 3, 4]\n",
      "完成: [10, 20, 30]\n"
     ]
    }
   ],
   "source": [
    "def changeme(mylist):\n",
    "    print(id(mylist))\n",
    "    mylist = [1,2,3,4]\n",
    "    print(id(mylist))\n",
    "    print(\"函數內:\",mylist)\n",
    "outMyList = [10,20,30]    \n",
    "print(id(outMyList))\n",
    "changeme(outMyList)\n",
    "print(\"完成:\",outMyList)"
   ]
  },
  {
   "cell_type": "code",
   "execution_count": 29,
   "id": "dc9e0c6c",
   "metadata": {},
   "outputs": [
    {
     "name": "stdout",
     "output_type": "stream",
     "text": [
      "1655696454272\n",
      "1655696454272\n",
      "1655696454272\n",
      "函數內: [10, 20, [1, 2]]\n",
      "完成: [10, 20, [1, 2]]\n"
     ]
    }
   ],
   "source": [
    "def changeme(mylist):\n",
    "    print(id(mylist))\n",
    "    mylist.append([1,2])\n",
    "    print(id(mylist))\n",
    "    print(\"函數內:\",mylist)\n",
    "outMyList = [10,20]\n",
    "print(id(outMyList))\n",
    "changeme(outMyList)\n",
    "print(\"完成:\",outMyList)"
   ]
  },
  {
   "cell_type": "markdown",
   "id": "39cf5abb",
   "metadata": {},
   "source": [
    "## list 計算式\n",
    "+ 於 list 使用上，+= 與 = 代表意義不同。\n",
    "+ += 於使用上具有修改資料結構本身，而 = 是重新分配資料內容。\n",
    "+ 所以 x+=1 會在原本的位置上進行修改，但 x=x+1 則是分配到新的位置。\n",
    "+ List 的取值動作除了起始與結束，也可以加入第三個參數：固定間隔。"
   ]
  },
  {
   "cell_type": "code",
   "execution_count": 36,
   "id": "70f389c9",
   "metadata": {},
   "outputs": [
    {
     "name": "stdout",
     "output_type": "stream",
     "text": [
      "===========================\n",
      "x: 1655695361664\n",
      "===========================\n",
      "y: 1655695361664\n",
      "z: 1655695246080\n",
      "===========================\n",
      "x: 1655695361664\n",
      "===========================\n",
      "tmp: 1655695383232\n",
      "x: 1655695383232\n",
      "[0, 1, 2, 89, 99] [0, 1, 2]\n"
     ]
    }
   ],
   "source": [
    "x=y=[0,1,2]\n",
    "print(\"===========================\")\n",
    "print(\"x:\",id(x))\n",
    "print(\"===========================\")\n",
    "print(\"y:\",id(y))\n",
    "z = x + [15,16]\n",
    "print(\"z:\",id(z))\n",
    "print(\"===========================\")\n",
    "print(\"x:\",id(x))\n",
    "print(\"===========================\")\n",
    "tmp = x + [89,99] #因為+會產生新的List所以 tmp會變為新的List\n",
    "x = tmp\n",
    "print(\"tmp:\",id(tmp))\n",
    "print(\"x:\",id(x))\n",
    "print(x,y)"
   ]
  },
  {
   "cell_type": "code",
   "execution_count": 38,
   "id": "a2dd1609",
   "metadata": {},
   "outputs": [
    {
     "name": "stdout",
     "output_type": "stream",
     "text": [
      "[0, 1, 2] [0, 1, 2]\n",
      "1655696450432 1655696450432\n",
      "[0, 1, 2, 100, 25] [0, 1, 2, 100, 25]\n",
      "1655696450432 1655696450432\n"
     ]
    }
   ],
   "source": [
    "a = b = [0,1,2]\n",
    "print(a,b)\n",
    "print(id(a),id(b))\n",
    "a += [100,25]\n",
    "print(a,b)\n",
    "print(id(a),id(b))"
   ]
  },
  {
   "cell_type": "markdown",
   "id": "5ddaefa8",
   "metadata": {},
   "source": [
    "## 固定間隔取值"
   ]
  },
  {
   "cell_type": "code",
   "execution_count": 51,
   "id": "f8a06e71",
   "metadata": {},
   "outputs": [
    {
     "name": "stdout",
     "output_type": "stream",
     "text": [
      "9 8 7 6 5 4 3 2 1 0 \n",
      "0 2 4 6 8 \n",
      "0 3 6 9 \n",
      "10 16 22 28 34 "
     ]
    }
   ],
   "source": [
    "x = range(10)\n",
    "for i in x[::-1]:\n",
    "    print(i,end = ' ')\n",
    "print()\n",
    "for i in x[::2]:\n",
    "    print(i,end = ' ')\n",
    "print()    \n",
    "for i in x[::3]:\n",
    "    print(i,end = ' ')\n",
    "print()       \n",
    "x = range(50)\n",
    "for i in x[10:40:6]:\n",
    "    print(i,end= ' ')"
   ]
  },
  {
   "cell_type": "markdown",
   "id": "7d3c0875",
   "metadata": {},
   "source": [
    "# 函數其他用法\n",
    "## 預設參數"
   ]
  },
  {
   "cell_type": "code",
   "execution_count": 59,
   "id": "c924fc26",
   "metadata": {},
   "outputs": [
    {
     "name": "stdout",
     "output_type": "stream",
     "text": [
      "Name:  Ken\n",
      "Age: 18\n",
      "=====================\n",
      "Name:  Lucy\n",
      "Age: 18\n",
      "=====================\n",
      "Name:  300\n",
      "Age: 18\n",
      "=====================\n",
      "Name:  Ken\n",
      "Age: 300\n",
      "=====================\n",
      "Name:  Vivin\n",
      "Age: 25\n",
      "=====================\n",
      "Name:  Iris\n",
      "Age: 20\n",
      "=====================\n"
     ]
    }
   ],
   "source": [
    "def printInfo(name=\"Ken\",age=18):\n",
    "    print(\"Name: \",name)\n",
    "    print(\"Age:\",age)\n",
    "    print(\"=====================\")\n",
    "printInfo()    \n",
    "printInfo(\"Lucy\")    \n",
    "printInfo(300) \n",
    "printInfo(age=300)\n",
    "printInfo(\"Vivin\",25)\n",
    "printInfo(age=20,name=\"Iris\")"
   ]
  },
  {
   "cell_type": "markdown",
   "id": "0ac8894a",
   "metadata": {},
   "source": [
    "### 不固定接收數量\n",
    "\n",
    "( ) 內接收資料若是以 * 表示代表可以引入不定數量的參數：\n",
    "\n",
    "一個*代表以 tuple 的方式引入\n",
    "\n",
    "兩個*代表以 dict 的方式引入\n",
    "\n",
    "接收資料若需加入多個設定，這些設定請依照順序排列：\n",
    "\n",
    "第一個參數設定為接收值 \n",
    "\n",
    "第二個參數設定為初始值\n",
    "\n",
    "第三個參數設定為不固定值，可以是 tuple 或 dict 方式"
   ]
  },
  {
   "cell_type": "code",
   "execution_count": 63,
   "id": "0ad8e358",
   "metadata": {},
   "outputs": [
    {
     "name": "stdout",
     "output_type": "stream",
     "text": [
      "ag1: 1\n",
      "ag2: def1\n",
      "ag1: 1\n",
      "ag2: 2\n",
      "ag1: 1\n",
      "ag2: 2\n",
      "e_arg: 3\n",
      "e_arg: 4\n",
      "e_arg: 5\n",
      "e_arg: 6\n"
     ]
    }
   ],
   "source": [
    "def fun1(ag1,ag2='def1',*ag3):\n",
    "        print(\"ag1:\",ag1)\n",
    "        print(\"ag2:\",ag2)\n",
    "        for e_arg in ag3:\n",
    "            print(\"e_arg:\",e_arg)\n",
    "fun1(1) \n",
    "fun1(1,2) \n",
    "fun1(1,2,3,4,5,6) "
   ]
  },
  {
   "cell_type": "code",
   "execution_count": null,
   "id": "60c0e83a",
   "metadata": {},
   "outputs": [],
   "source": []
  }
 ],
 "metadata": {
  "kernelspec": {
   "display_name": "Python 3 (ipykernel)",
   "language": "python",
   "name": "python3"
  },
  "language_info": {
   "codemirror_mode": {
    "name": "ipython",
    "version": 3
   },
   "file_extension": ".py",
   "mimetype": "text/x-python",
   "name": "python",
   "nbconvert_exporter": "python",
   "pygments_lexer": "ipython3",
   "version": "3.8.11"
  }
 },
 "nbformat": 4,
 "nbformat_minor": 5
}
