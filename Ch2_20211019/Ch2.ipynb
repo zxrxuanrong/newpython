{
 "cells": [
  {
   "cell_type": "markdown",
   "id": "9a7f5080",
   "metadata": {},
   "source": [
    "# Ch2\n",
    "## 練習註解\n"
   ]
  },
  {
   "cell_type": "code",
   "execution_count": 5,
   "id": "1a0b1e15",
   "metadata": {},
   "outputs": [
    {
     "name": "stdout",
     "output_type": "stream",
     "text": [
      "x: 10\n",
      "x: Ken\n"
     ]
    }
   ],
   "source": [
    "'''\n",
    "作者:Howard\n",
    "日期:2021/10/19\n",
    "宣告變數\n",
    "'''\n",
    "x = 10 #設定變數為10'\n",
    "print(\"x:\",x)\n",
    "x = \"Ken\"\n",
    "print(\"x:\",x)"
   ]
  },
  {
   "cell_type": "code",
   "execution_count": 17,
   "id": "7a2bae89",
   "metadata": {},
   "outputs": [
    {
     "name": "stdout",
     "output_type": "stream",
     "text": [
      "10\n"
     ]
    }
   ],
   "source": [
    "y = 10\n",
    "print(y)\n",
    "# del y"
   ]
  },
  {
   "cell_type": "code",
   "execution_count": 18,
   "id": "5a883fec",
   "metadata": {},
   "outputs": [
    {
     "name": "stdout",
     "output_type": "stream",
     "text": [
      "10\n"
     ]
    }
   ],
   "source": [
    "print(y)"
   ]
  },
  {
   "cell_type": "code",
   "execution_count": 21,
   "id": "991d990e",
   "metadata": {},
   "outputs": [
    {
     "name": "stdout",
     "output_type": "stream",
     "text": [
      "Howard\n",
      "K\"e\"n\n"
     ]
    }
   ],
   "source": [
    "print(\"Howard\")\n",
    "print('K\"e\"n')"
   ]
  },
  {
   "cell_type": "code",
   "execution_count": 26,
   "id": "81574708",
   "metadata": {},
   "outputs": [
    {
     "name": "stdout",
     "output_type": "stream",
     "text": [
      "<class 'int'>\n",
      "<class 'float'>\n",
      "<class 'bool'>\n",
      "<class 'str'>\n"
     ]
    }
   ],
   "source": [
    "var1 = 20\n",
    "print(type(var1))\n",
    "var2 = 123.45\n",
    "print(type(var2))\n",
    "var3 = True\n",
    "print(type(var3))\n",
    "var4 = 'string1'\n",
    "print(type(var4))"
   ]
  },
  {
   "cell_type": "code",
   "execution_count": 37,
   "id": "55224fc5",
   "metadata": {},
   "outputs": [
    {
     "name": "stdout",
     "output_type": "stream",
     "text": [
      "140720733560704\n",
      "140720733561184\n",
      "1912938790384\n"
     ]
    }
   ],
   "source": [
    "a = 5\n",
    "print(id(a))\n",
    "a = 20\n",
    "print(id(a))\n",
    "a = \"test\"\n",
    "print(id(a))"
   ]
  },
  {
   "cell_type": "code",
   "execution_count": 57,
   "id": "e38468b6",
   "metadata": {},
   "outputs": [
    {
     "name": "stdout",
     "output_type": "stream",
     "text": [
      "1913001897456\n",
      "1913000900720\n"
     ]
    }
   ],
   "source": [
    "b = 5.4\n",
    "print(id(b))\n",
    "b = 20.3\n",
    "print(id(b))\n"
   ]
  },
  {
   "cell_type": "markdown",
   "id": "b09ea95b",
   "metadata": {},
   "source": [
    "## 轉為字串"
   ]
  },
  {
   "cell_type": "code",
   "execution_count": 70,
   "id": "61c9b3c4",
   "metadata": {},
   "outputs": [
    {
     "name": "stdout",
     "output_type": "stream",
     "text": [
      "Age:18\n"
     ]
    }
   ],
   "source": [
    "msg = \"Age:\"+str(18)\n",
    "print(msg)"
   ]
  },
  {
   "cell_type": "markdown",
   "id": "3702de6f",
   "metadata": {},
   "source": [
    "## 字串變整數"
   ]
  },
  {
   "cell_type": "code",
   "execution_count": 67,
   "id": "637e4ce9",
   "metadata": {},
   "outputs": [
    {
     "name": "stdout",
     "output_type": "stream",
     "text": [
      "20\n"
     ]
    }
   ],
   "source": [
    "age = \"18\"\n",
    "test = int(age) + 2\n",
    "print(test)"
   ]
  },
  {
   "cell_type": "code",
   "execution_count": 74,
   "id": "7bb98a66",
   "metadata": {},
   "outputs": [
    {
     "name": "stdout",
     "output_type": "stream",
     "text": [
      "1\n"
     ]
    }
   ],
   "source": [
    "print(True + False)"
   ]
  },
  {
   "cell_type": "code",
   "execution_count": 75,
   "id": "3969e680",
   "metadata": {},
   "outputs": [
    {
     "name": "stdout",
     "output_type": "stream",
     "text": [
      "2016\n"
     ]
    }
   ],
   "source": [
    "a,b,c = \"pcschool\",2016,3.14\n",
    "print(b)"
   ]
  },
  {
   "cell_type": "code",
   "execution_count": null,
   "id": "a1422f9e",
   "metadata": {},
   "outputs": [],
   "source": [
    "x,y = 20,60\n",
    "print(\"x:\",x,\" y:\",y)\n",
    "x,y = y,x\n",
    "print(\"x:\",x,\" y:\",y)"
   ]
  },
  {
   "cell_type": "code",
   "execution_count": 86,
   "id": "1ba209b2",
   "metadata": {},
   "outputs": [
    {
     "name": "stdout",
     "output_type": "stream",
     "text": [
      "哈嘍哈嘍哈嘍哈嘍哈嘍\n"
     ]
    }
   ],
   "source": [
    "test = \"哈嘍\" * 1\n",
    "print(test)"
   ]
  },
  {
   "cell_type": "markdown",
   "id": "56321987",
   "metadata": {},
   "source": [
    "## Input 輸入"
   ]
  },
  {
   "cell_type": "code",
   "execution_count": 6,
   "id": "0c18cf8d",
   "metadata": {},
   "outputs": [
    {
     "name": "stdout",
     "output_type": "stream",
     "text": [
      "輸入整數1a:10\n",
      "輸入整數1b:20\n",
      "int輸入c:10\n",
      "int輸入d:20\n",
      "1020\n",
      "30\n"
     ]
    }
   ],
   "source": [
    "a = input(\"輸入整數1a:\")\n",
    "b = input(\"輸入整數1b:\")\n",
    "c = int(input(\"int輸入c:\"))\n",
    "d = int(input(\"int輸入d:\"))\n",
    "f = a + b\n",
    "g = c + d\n",
    "print(f)\n",
    "print(g)"
   ]
  },
  {
   "cell_type": "code",
   "execution_count": 7,
   "id": "68225276",
   "metadata": {},
   "outputs": [
    {
     "name": "stdout",
     "output_type": "stream",
     "text": [
      "int輸入c:10\n",
      "int輸入d:20\n",
      "30\n",
      "float輸入h:10\n",
      "float輸入i:20\n",
      "30.0\n"
     ]
    }
   ],
   "source": [
    "c = int(input(\"int輸入c:\"))\n",
    "d = int(input(\"int輸入d:\"))\n",
    "g = c + d\n",
    "print(g)\n",
    "h = float(input(\"float輸入h:\"))\n",
    "i = float(input(\"float輸入i:\"))\n",
    "j = h + i\n",
    "print(j)"
   ]
  },
  {
   "cell_type": "code",
   "execution_count": 64,
   "id": "d7352615",
   "metadata": {},
   "outputs": [
    {
     "name": "stdout",
     "output_type": "stream",
     "text": [
      "輸入字串:10\n"
     ]
    },
    {
     "ename": "AttributeError",
     "evalue": "'str' object has no attribute '_class_'",
     "output_type": "error",
     "traceback": [
      "\u001b[1;31m---------------------------------------------------------------------------\u001b[0m",
      "\u001b[1;31mAttributeError\u001b[0m                            Traceback (most recent call last)",
      "\u001b[1;32m~\\AppData\\Local\\Temp/ipykernel_4324/2376183633.py\u001b[0m in \u001b[0;36m<module>\u001b[1;34m\u001b[0m\n\u001b[0;32m      1\u001b[0m \u001b[0ma\u001b[0m \u001b[1;33m=\u001b[0m \u001b[0minput\u001b[0m\u001b[1;33m(\u001b[0m\u001b[1;34m\"輸入字串:\"\u001b[0m\u001b[1;33m)\u001b[0m\u001b[1;33m\u001b[0m\u001b[1;33m\u001b[0m\u001b[0m\n\u001b[1;32m----> 2\u001b[1;33m \u001b[0mprint\u001b[0m\u001b[1;33m(\u001b[0m\u001b[0ma\u001b[0m\u001b[1;33m,\u001b[0m\u001b[0ma\u001b[0m\u001b[1;33m.\u001b[0m\u001b[0m_class_\u001b[0m\u001b[1;33m)\u001b[0m\u001b[1;33m\u001b[0m\u001b[1;33m\u001b[0m\u001b[0m\n\u001b[0m\u001b[0;32m      3\u001b[0m \u001b[0ma\u001b[0m \u001b[1;33m=\u001b[0m \u001b[0minput\u001b[0m\u001b[1;33m(\u001b[0m\u001b[1;34m\"請輸入整數:\"\u001b[0m\u001b[1;33m)\u001b[0m\u001b[1;33m\u001b[0m\u001b[1;33m\u001b[0m\u001b[0m\n\u001b[0;32m      4\u001b[0m \u001b[0mprint\u001b[0m\u001b[1;33m(\u001b[0m\u001b[0ma\u001b[0m\u001b[1;33m,\u001b[0m\u001b[0ma\u001b[0m\u001b[1;33m.\u001b[0m\u001b[0m__class__\u001b[0m\u001b[1;33m)\u001b[0m\u001b[1;33m\u001b[0m\u001b[1;33m\u001b[0m\u001b[0m\n\u001b[0;32m      5\u001b[0m \u001b[0ma\u001b[0m \u001b[1;33m=\u001b[0m \u001b[0mfloat\u001b[0m\u001b[1;33m(\u001b[0m\u001b[0minput\u001b[0m\u001b[1;33m(\u001b[0m\u001b[1;34m\"float 請輸入浮點數:\"\u001b[0m\u001b[1;33m)\u001b[0m\u001b[1;33m)\u001b[0m\u001b[1;33m\u001b[0m\u001b[1;33m\u001b[0m\u001b[0m\n",
      "\u001b[1;31mAttributeError\u001b[0m: 'str' object has no attribute '_class_'"
     ]
    }
   ],
   "source": [
    "a = input(\"輸入字串:\")\n",
    "print(a,a.__class__)\n",
    "a = input(\"請輸入整數:\")\n",
    "print(a,a.__class__)\n",
    "a = float(input(\"float 請輸入浮點數:\"))\n",
    "print(a,a.__class__)\n",
    "a = int(input(\"int請輸入整數:\"))\n",
    "print(a,a.__class__)\n",
    "a = int(input(\"int請輸入字串:\"))\n",
    "print(a,a.__class__)\n",
    "\n"
   ]
  },
  {
   "attachments": {
    "image.png": {
     "image/png": "[encoded data removed]"
    }
   },
   "cell_type": "markdown",
   "id": "db5247b5",
   "metadata": {},
   "source": [
    "## 算數運算子\n",
    "![image.png](attachment:image.png)"
   ]
  },
  {
   "cell_type": "code",
   "execution_count": 18,
   "id": "8f4201a1",
   "metadata": {},
   "outputs": [
    {
     "name": "stdout",
     "output_type": "stream",
     "text": [
      "8\n",
      "16\n",
      "1\n",
      "8.75\n",
      "2\n",
      "2.5\n"
     ]
    }
   ],
   "source": [
    "a,b,c = 4,2,5\n",
    "d,f = 3.25,5.5\n",
    "print(a * b)\n",
    "print(a ** 2)\n",
    "print(a % 3)\n",
    "print(d + f)\n",
    "print(c // b)\n",
    "print(c / b)"
   ]
  },
  {
   "cell_type": "markdown",
   "id": "43c89037",
   "metadata": {},
   "source": [
    "## 複合指定運算子"
   ]
  },
  {
   "cell_type": "code",
   "execution_count": 28,
   "id": "a4ef6783",
   "metadata": {},
   "outputs": [
    {
     "name": "stdout",
     "output_type": "stream",
     "text": [
      "5\n",
      "3\n",
      "4\n",
      "4\n"
     ]
    }
   ],
   "source": [
    "count = 0\n",
    "count = count + 5\n",
    "print(count)\n",
    "count -= 2\n",
    "print(count)\n",
    "count += 1\n",
    "print(count)\n",
    "# 無 ++count count++\n",
    "print(count)\n"
   ]
  },
  {
   "cell_type": "markdown",
   "id": "6d13cb5e",
   "metadata": {},
   "source": [
    "## 關係運算判斷"
   ]
  },
  {
   "cell_type": "code",
   "execution_count": 55,
   "id": "754affb1",
   "metadata": {},
   "outputs": [
    {
     "name": "stdout",
     "output_type": "stream",
     "text": [
      "結束!\n"
     ]
    }
   ],
   "source": [
    "# 如果 xxx\n",
    "#   則做 什麼動作xxx\n",
    "a = 12\n",
    "if a > 18:\n",
    " print(\"大於18\")    \n",
    "\n",
    "print(\"結束!\")    \n"
   ]
  },
  {
   "cell_type": "code",
   "execution_count": 57,
   "id": "f0cf7c4b",
   "metadata": {},
   "outputs": [
    {
     "name": "stdout",
     "output_type": "stream",
     "text": [
      "小於18\n",
      "結束!\n"
     ]
    }
   ],
   "source": [
    "a = 12\n",
    "if a > 18:\n",
    "   print(\"大於18\")\n",
    "else:\n",
    "   print(\"小於18\")\n",
    "print(\"結束!\")"
   ]
  },
  {
   "cell_type": "code",
   "execution_count": 63,
   "id": "36cc4538",
   "metadata": {},
   "outputs": [
    {
     "name": "stdout",
     "output_type": "stream",
     "text": [
      "小於12\n"
     ]
    }
   ],
   "source": [
    "a = 11\n",
    "if a > 18:\n",
    "    print(\"大於18\")\n",
    "elif a > 12:\n",
    "    print(\"大於12\")\n",
    "else:\n",
    "    print(\"小於12\")"
   ]
  },
  {
   "cell_type": "code",
   "execution_count": null,
   "id": "b33ecf1e",
   "metadata": {},
   "outputs": [],
   "source": []
  }
 ],
 "metadata": {
  "kernelspec": {
   "display_name": "Python 3 (ipykernel)",
   "language": "python",
   "name": "python3"
  },
  "language_info": {
   "codemirror_mode": {
    "name": "ipython",
    "version": 3
   },
   "file_extension": ".py",
   "mimetype": "text/x-python",
   "name": "python",
   "nbconvert_exporter": "python",
   "pygments_lexer": "ipython3",
   "version": "3.8.11"
  }
 },
 "nbformat": 4,
 "nbformat_minor": 5
}
