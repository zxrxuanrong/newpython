{
 "cells": [
  {
   "cell_type": "markdown",
   "id": "00cf1e8a",
   "metadata": {},
   "source": [
    "## 匿名函數操作"
   ]
  },
  {
   "cell_type": "code",
   "execution_count": 1,
   "id": "d6c30ea7",
   "metadata": {},
   "outputs": [
    {
     "name": "stdout",
     "output_type": "stream",
     "text": [
      "['apple!!!', 'banana!!!', 'papaya!!!', 'watermelon!!!']\n"
     ]
    }
   ],
   "source": [
    "myList = [\"apple\",\"banana\",\"papaya\",\"watermelon\"]\n",
    "myList =map(lambda x : x+\"!!!\",myList)\n",
    "print(list(myList))"
   ]
  },
  {
   "cell_type": "markdown",
   "id": "1fb29411",
   "metadata": {},
   "source": [
    "## 物件導向程式"
   ]
  },
  {
   "cell_type": "markdown",
   "id": "55599702",
   "metadata": {},
   "source": [
    "## 物件屬性"
   ]
  },
  {
   "cell_type": "code",
   "execution_count": 8,
   "id": "88309d2c",
   "metadata": {},
   "outputs": [
    {
     "name": "stdout",
     "output_type": "stream",
     "text": [
      "Ken\n",
      "18\n"
     ]
    },
    {
     "ename": "AttributeError",
     "evalue": "'Turtle' object has no attribute 'age'",
     "output_type": "error",
     "traceback": [
      "\u001b[1;31m---------------------------------------------------------------------------\u001b[0m",
      "\u001b[1;31mAttributeError\u001b[0m                            Traceback (most recent call last)",
      "\u001b[1;32m~\\AppData\\Local\\Temp/ipykernel_2192/2977568649.py\u001b[0m in \u001b[0;36m<module>\u001b[1;34m\u001b[0m\n\u001b[0;32m      7\u001b[0m \u001b[0mprint\u001b[0m\u001b[1;33m(\u001b[0m\u001b[0msean\u001b[0m\u001b[1;33m.\u001b[0m\u001b[0mage\u001b[0m\u001b[1;33m)\u001b[0m\u001b[1;33m\u001b[0m\u001b[1;33m\u001b[0m\u001b[0m\n\u001b[0;32m      8\u001b[0m \u001b[1;32mdel\u001b[0m \u001b[0msean\u001b[0m\u001b[1;33m.\u001b[0m\u001b[0mage\u001b[0m\u001b[1;33m\u001b[0m\u001b[1;33m\u001b[0m\u001b[0m\n\u001b[1;32m----> 9\u001b[1;33m \u001b[0mprint\u001b[0m\u001b[1;33m(\u001b[0m\u001b[0msean\u001b[0m\u001b[1;33m.\u001b[0m\u001b[0mage\u001b[0m\u001b[1;33m)\u001b[0m\u001b[1;33m\u001b[0m\u001b[1;33m\u001b[0m\u001b[0m\n\u001b[0m",
      "\u001b[1;31mAttributeError\u001b[0m: 'Turtle' object has no attribute 'age'"
     ]
    }
   ],
   "source": [
    "import turtle\n",
    "sean = turtle.Turtle()\n",
    "# print(sean.name)\n",
    "sean.name = 'Ken'\n",
    "sean.age = 18\n",
    "print(sean.name)\n",
    "print(sean.age)\n",
    "del sean.age\n",
    "print(sean.age)"
   ]
  },
  {
   "cell_type": "code",
   "execution_count": 1,
   "id": "7f36d02a",
   "metadata": {},
   "outputs": [],
   "source": [
    "import turtle\n",
    "sean = turtle.Turtle()\n",
    "sean.shape('turtle')\n",
    "sean.shapesize(2)\n",
    "sean.pencolor('red')\n",
    "sean.fillcolor('blue')\n",
    "sean.pensize(2)\n",
    "window=turtle.Screen()\n",
    "for i in range(1,5):\n",
    "    sean.forward(100)\n",
    "    sean.right(90)\n",
    "\n",
    "window.exitonclick()"
   ]
  },
  {
   "cell_type": "code",
   "execution_count": 1,
   "id": "bffbe0e6",
   "metadata": {},
   "outputs": [],
   "source": [
    "import turtle\n",
    "def draw_square(tur):\n",
    "    for i in range(1,5):\n",
    "        tur.forward(100)\n",
    "        tur.right(90)\n",
    "window = turtle.Screen()\n",
    "window.bgcolor(\"grey\")\n",
    "sean = turtle.Turtle()\n",
    "sean.shape(\"turtle\")\n",
    "sean.color(\"green\")\n",
    "draw_square(sean)\n",
    "\n",
    "amy = turtle.Turtle()\n",
    "amy.shape('arrow')\n",
    "amy.goto(0,30)\n",
    "amy.color('red')\n",
    "amy.circle(60)\n",
    "window.exitonclick()\n",
    "\n"
   ]
  },
  {
   "cell_type": "markdown",
   "id": "863796c7",
   "metadata": {},
   "source": [
    "## 建立基本物件"
   ]
  },
  {
   "cell_type": "code",
   "execution_count": 2,
   "id": "68f34dc2",
   "metadata": {},
   "outputs": [
    {
     "name": "stdout",
     "output_type": "stream",
     "text": [
      "<__main__.Employee object at 0x0000015AB1A95850>\n"
     ]
    }
   ],
   "source": [
    "class Employee:\n",
    "    pass\n",
    "emp = Employee()\n",
    "print(emp)"
   ]
  },
  {
   "cell_type": "code",
   "execution_count": 6,
   "id": "fb493315",
   "metadata": {},
   "outputs": [
    {
     "name": "stdout",
     "output_type": "stream",
     "text": [
      "name: Howard\n",
      "salary: 50000\n"
     ]
    }
   ],
   "source": [
    "class Employee:\n",
    "    pass\n",
    "emp = Employee()\n",
    "emp.name= \"Howard\"\n",
    "emp.salary = 50000\n",
    "emp2 = Employee()\n",
    "print(\"name:\",emp.name)\n",
    "print(\"salary:\",emp.salary)"
   ]
  },
  {
   "cell_type": "markdown",
   "id": "24ad25f1",
   "metadata": {},
   "source": [
    "## __init__(self, …) 初始化方法"
   ]
  },
  {
   "cell_type": "code",
   "execution_count": 12,
   "id": "e5c82314",
   "metadata": {},
   "outputs": [
    {
     "name": "stdout",
     "output_type": "stream",
     "text": [
      "Ken:50000\n",
      "Iris:20000\n"
     ]
    }
   ],
   "source": [
    "class Employee:\n",
    "    def __init__(self,name,salary=20000):\n",
    "        self.name = name\n",
    "        self.salary = salary\n",
    "emp = Employee('Ken',50000)\n",
    "print(f\"{emp.name}:{emp.salary}\")\n",
    "# Irir 無salary\n",
    "emp2 = Employee('Iris')\n",
    "print(f\"{emp2.name}:{emp2.salary}\")"
   ]
  },
  {
   "cell_type": "markdown",
   "id": "35049f91",
   "metadata": {},
   "source": [
    "## 物件實體方法"
   ]
  },
  {
   "cell_type": "code",
   "execution_count": 20,
   "id": "d62ca216",
   "metadata": {},
   "outputs": [
    {
     "name": "stdout",
     "output_type": "stream",
     "text": [
      "員工1\n",
      "name: Sean\n",
      "salary: 50000\n",
      "員工2\n",
      "name: Lucy\n",
      "salary: 20000\n",
      "1489075869488 1489075871024\n"
     ]
    }
   ],
   "source": [
    "class Employee:\n",
    "    def __init__(self,name,salary=20000):\n",
    "        self.name = name\n",
    "        self.salary = salary\n",
    "    def printInfo(self,title):     \n",
    "        print(title)\n",
    "        print(\"name:\",self.name)\n",
    "        print(\"salary:\",self.salary)\n",
    "emp1 = Employee(\"Sean\",50000)\n",
    "emp1.printInfo(\"員工1\")\n",
    "emp2 = Employee(\"Lucy\")\n",
    "emp2.printInfo(\"員工2\")\n",
    "\n",
    "print(id(emp1),id(emp2))"
   ]
  },
  {
   "cell_type": "markdown",
   "id": "8f730ae1",
   "metadata": {},
   "source": [
    "## __new__方法 Singleton"
   ]
  },
  {
   "cell_type": "code",
   "execution_count": 21,
   "id": "d42e9ee8",
   "metadata": {},
   "outputs": [
    {
     "name": "stdout",
     "output_type": "stream",
     "text": [
      "1489100466688 : 1489100466688\n"
     ]
    }
   ],
   "source": [
    "class Singleton:\n",
    "    def __new__(cls):\n",
    "        if not hasattr(cls,'instance'):\n",
    "            cls.instance = super(Singleton,cls).__new__(cls)\n",
    "        return  cls.instance \n",
    "s1 = Singleton()\n",
    "s2 = Singleton()\n",
    "print(id(s1),\":\",id(s2))"
   ]
  },
  {
   "cell_type": "code",
   "execution_count": 25,
   "id": "ad9576a9",
   "metadata": {},
   "outputs": [
    {
     "name": "stdout",
     "output_type": "stream",
     "text": [
      "Hello Join\n",
      "Hello Join\n"
     ]
    }
   ],
   "source": [
    "class Person:\n",
    "    def __init__(self,name):\n",
    "        self.name = name\n",
    "    def sayHello(self):\n",
    "        print(\"Hello\",self.name)\n",
    "p1 = Person('Join')        \n",
    "greet = p1.sayHello\n",
    "greet()\n",
    "\n",
    "Person.sayHello(p1)"
   ]
  },
  {
   "cell_type": "markdown",
   "id": "94a7c779",
   "metadata": {},
   "source": [
    "## 類別屬性"
   ]
  },
  {
   "cell_type": "code",
   "execution_count": 31,
   "id": "ad2feead",
   "metadata": {},
   "outputs": [
    {
     "name": "stdout",
     "output_type": "stream",
     "text": [
      "name: Ken\n",
      "salary: 60000\n",
      "Phone: (02)2311-4537\n",
      "company: 巨匠電腦\n",
      "name: Lindy\n",
      "salary: 20000\n",
      "Phone: (02)2311-4537\n",
      "company: 巨匠電腦\n",
      "==================\n",
      "name: Ken\n",
      "salary: 60000\n",
      "Phone: 7533967\n",
      "company: 巨匠電腦\n",
      "name: Lindy\n",
      "salary: 20000\n",
      "Phone: 7533967\n",
      "company: 巨匠電腦\n"
     ]
    }
   ],
   "source": [
    "class Employee:\n",
    "    company = \"巨匠電腦\"\n",
    "    phone='(02)2311-4537'\n",
    "    def __init__(self,name,salary=20000):\n",
    "        self.name = name\n",
    "        self.salary = salary\n",
    "    def printInfo(self):     \n",
    "        print(\"name:\",self.name)\n",
    "        print(\"salary:\",self.salary)\n",
    "        print(\"Phone:\",self.phone)\n",
    "        print(\"company:\",Employee.company)\n",
    "emp1 = Employee(\"Ken\",60000)       \n",
    "emp2 = Employee(\"Lindy\")\n",
    "emp1.printInfo()\n",
    "emp2.printInfo()\n",
    "print(\"==================\")\n",
    "Employee.phone = \"7533967\"\n",
    "emp1.printInfo()\n",
    "emp2.printInfo()"
   ]
  },
  {
   "cell_type": "markdown",
   "id": "dc678ba7",
   "metadata": {},
   "source": [
    "## 類別方法"
   ]
  },
  {
   "cell_type": "code",
   "execution_count": 39,
   "id": "677fc973",
   "metadata": {},
   "outputs": [
    {
     "name": "stdout",
     "output_type": "stream",
     "text": [
      "name: Ken\n",
      "salary: 60000\n",
      "Phone: (02)2311-4537\n",
      "company: 巨匠電腦\n",
      "巨匠電腦\n"
     ]
    }
   ],
   "source": [
    "class Employee:\n",
    "    company = \"巨匠電腦\"\n",
    "    phone='(02)2311-4537'\n",
    "    def __init__(self,name,salary=20000):\n",
    "        self.name = name\n",
    "        self.salary = salary\n",
    "    def printInfo(self):     \n",
    "        print(\"name:\",self.name)\n",
    "        print(\"salary:\",self.salary)\n",
    "        print(\"Phone:\",self.phone)\n",
    "        print(\"company:\",Employee.company)\n",
    "    def getCompay():\n",
    "        return Employee.company\n",
    "emp1 = Employee(\"Ken\",60000)     \n",
    "emp1.printInfo() \n",
    "print(Employee.getCompay())   "
   ]
  },
  {
   "cell_type": "code",
   "execution_count": null,
   "id": "cdb962ed",
   "metadata": {},
   "outputs": [],
   "source": []
  }
 ],
 "metadata": {
  "kernelspec": {
   "display_name": "Python 3 (ipykernel)",
   "language": "python",
   "name": "python3"
  },
  "language_info": {
   "codemirror_mode": {
    "name": "ipython",
    "version": 3
   },
   "file_extension": ".py",
   "mimetype": "text/x-python",
   "name": "python",
   "nbconvert_exporter": "python",
   "pygments_lexer": "ipython3",
   "version": "3.8.11"
  }
 },
 "nbformat": 4,
 "nbformat_minor": 5
}
