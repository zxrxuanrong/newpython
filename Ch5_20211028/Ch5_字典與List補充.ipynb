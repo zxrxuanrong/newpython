{
 "cells": [
  {
   "cell_type": "markdown",
   "id": "24f1b547",
   "metadata": {},
   "source": [
    "## 作業 字串文字接龍"
   ]
  },
  {
   "cell_type": "code",
   "execution_count": 5,
   "id": "5995490c",
   "metadata": {},
   "outputs": [
    {
     "name": "stdout",
     "output_type": "stream",
     "text": [
      "請輸入一個字串Apple\n",
      "請輸入-e-開始的字串:ert\n",
      "上一個字串是:Apple-ert\n",
      "請輸入-t-開始的字串:tas\n",
      "上一個字串是:Apple-ert-tas\n",
      "請輸入-s-開始的字串:sad\n",
      "上一個字串是:Apple-ert-tas-sad\n",
      "請輸入-d-開始的字串:z\n",
      "上一個字串是:Apple-ert-tas-sad\n",
      "請輸入-d-開始的字串:z\n",
      "上一個字串是:Apple-ert-tas-sad\n",
      "請輸入-d-開始的字串:z\n",
      "上一個字串是:Apple-ert-tas-sad\n",
      "請輸入-d-開始的字串:z\n",
      "上一個字串是:Apple-ert-tas-sad\n",
      "請輸入-d-開始的字串:z\n",
      "上一個字串是:Apple-ert-tas-sad\n"
     ]
    }
   ],
   "source": [
    "count = 1\n",
    "txt = input(\"請輸入一個字串\")\n",
    "strList = []\n",
    "#msg =txt\n",
    "strList.append(txt)\n",
    "while count <= 5:    \n",
    "    tmpTxt = input(f\"請輸入-{txt[-1]}-開始的字串:\")  \n",
    "    if (tmpTxt[0] == txt[-1]):\n",
    "        txt = tmpTxt\n",
    "        #msg+=\"-\"+txt\n",
    "        strList.append(tmpTxt)\n",
    "        msg = \"-\".join(strList)\n",
    "    else:        \n",
    "        count+=1\n",
    "    print(f\"上一個字串是:{msg}\")    "
   ]
  },
  {
   "cell_type": "markdown",
   "id": "d03d9156",
   "metadata": {},
   "source": [
    "## 字串排序\n",
    "\n",
    "數字 < 大寫 < 小寫"
   ]
  },
  {
   "cell_type": "code",
   "execution_count": 7,
   "id": "93a6c533",
   "metadata": {},
   "outputs": [
    {
     "name": "stdout",
     "output_type": "stream",
     "text": [
      "['A', 'a', 'b', 'c']\n",
      "65 97 98 99\n",
      "99 98 97 65\n"
     ]
    }
   ],
   "source": [
    "list2 = ['c','b','a','A']\n",
    "list2.sort()\n",
    "print(list2)\n",
    "print(ord('A'),ord('a'),ord('b'),ord('c'))\n",
    "print(ord('c'),ord('b'),ord('a'),ord('A'))"
   ]
  },
  {
   "cell_type": "code",
   "execution_count": 15,
   "id": "82ff3fb0",
   "metadata": {},
   "outputs": [
    {
     "name": "stdout",
     "output_type": "stream",
     "text": [
      "['aB', 'Ab', 'ab', 12]\n"
     ]
    }
   ],
   "source": [
    "list3 = [12,'ab','Ab','aB']\n",
    "# list3.sort()\n",
    "list3.reverse()\n",
    "print(list3)"
   ]
  },
  {
   "cell_type": "markdown",
   "id": "34d0b1fc",
   "metadata": {},
   "source": [
    "## in\n",
    "元素是否在List中\n",
    "查得元素  in List"
   ]
  },
  {
   "cell_type": "code",
   "execution_count": 12,
   "id": "616db588",
   "metadata": {},
   "outputs": [
    {
     "name": "stdout",
     "output_type": "stream",
     "text": [
      "請輸入姓名Ken\n",
      "Ken在清單中\n"
     ]
    }
   ],
   "source": [
    "names = [\"Ken\",\"Vivin\",\"Lindy\",\"Gigi\"]\n",
    "name = input(\"請輸入姓名\")\n",
    "if name in names:\n",
    "   print(name+\"在清單中\")\n",
    "else:\n",
    "   print(name+\"不在清單中\")       "
   ]
  },
  {
   "cell_type": "markdown",
   "id": "f56dd4c8",
   "metadata": {},
   "source": [
    "## Foreach List"
   ]
  },
  {
   "cell_type": "code",
   "execution_count": 16,
   "id": "10cbd7a8",
   "metadata": {},
   "outputs": [
    {
     "name": "stdout",
     "output_type": "stream",
     "text": [
      "A\tB\tC\tD\t"
     ]
    }
   ],
   "source": [
    "list4 = [\"A\",\"B\",\"C\",\"D\"]\n",
    "for v in list4:\n",
    "    print(v,end='\\t')"
   ]
  },
  {
   "cell_type": "markdown",
   "id": "9d24a76f",
   "metadata": {},
   "source": [
    "## List生成器"
   ]
  },
  {
   "cell_type": "code",
   "execution_count": 20,
   "id": "9932b6da",
   "metadata": {},
   "outputs": [
    {
     "name": "stdout",
     "output_type": "stream",
     "text": [
      "[1, 2, 3, 4, 5, 6, 7, 8, 9, 10]\n"
     ]
    }
   ],
   "source": [
    "## 產生一組List 內容是1~10\n",
    "numberList = []\n",
    "for i in range(1,11):\n",
    "    numberList.append(i)\n",
    "print(numberList)    "
   ]
  },
  {
   "cell_type": "code",
   "execution_count": 29,
   "id": "2c5e06d4",
   "metadata": {},
   "outputs": [
    {
     "name": "stdout",
     "output_type": "stream",
     "text": [
      "[1, 2, 3, 4, 5, 6, 7, 8, 9, 10]\n"
     ]
    }
   ],
   "source": [
    "numberList2 = [value for value in range(1,11)]\n",
    "print(numberList2)"
   ]
  },
  {
   "cell_type": "code",
   "execution_count": 30,
   "id": "cb1f3a7f",
   "metadata": {},
   "outputs": [
    {
     "name": "stdout",
     "output_type": "stream",
     "text": [
      "[2, 4, 6, 8, 10]\n"
     ]
    }
   ],
   "source": [
    "numberList = []\n",
    "for i in range(1,11):\n",
    "    if i %2 == 0:\n",
    "      numberList.append(i)\n",
    "print(numberList)   "
   ]
  },
  {
   "cell_type": "code",
   "execution_count": 31,
   "id": "9be451d0",
   "metadata": {},
   "outputs": [
    {
     "name": "stdout",
     "output_type": "stream",
     "text": [
      "[2, 4, 6, 8, 10]\n"
     ]
    }
   ],
   "source": [
    "numberList2 = [value for value in range(1,11) if value%2 == 0]\n",
    "print(numberList2)"
   ]
  },
  {
   "cell_type": "code",
   "execution_count": 41,
   "id": "3e85cc85",
   "metadata": {},
   "outputs": [
    {
     "name": "stdout",
     "output_type": "stream",
     "text": [
      "['AX', 'AY', 'AZ', 'BX', 'BY', 'BZ', 'CX', 'CY', 'CZ']\n"
     ]
    }
   ],
   "source": [
    "str1 = \"ABC\"\n",
    "str2 = \"XYZ\"\n",
    "list0 = []\n",
    "for m in  str1:\n",
    "    for n in str2:        \n",
    "       list0.append(m+n)\n",
    "print(list0)    \n"
   ]
  },
  {
   "cell_type": "code",
   "execution_count": 42,
   "id": "3217e957",
   "metadata": {},
   "outputs": [
    {
     "name": "stdout",
     "output_type": "stream",
     "text": [
      "['AX', 'AY', 'AZ', 'BX', 'BY', 'BZ', 'CX', 'CY', 'CZ']\n"
     ]
    }
   ],
   "source": [
    "str1 = \"ABC\"\n",
    "str2 = \"XYZ\"\n",
    "list1 = [m+n  for m in str1 for n in str2]\n",
    "print(list1)  "
   ]
  },
  {
   "cell_type": "markdown",
   "id": "5a1fe1ae",
   "metadata": {},
   "source": [
    "## 三元運算子\n",
    "當if成立回傳的數值  if 條件 else  當if不成立回傳的數值 "
   ]
  },
  {
   "cell_type": "code",
   "execution_count": 43,
   "id": "a7d354cd",
   "metadata": {},
   "outputs": [
    {
     "name": "stdout",
     "output_type": "stream",
     "text": [
      "20\n"
     ]
    }
   ],
   "source": [
    "a = 10\n",
    "b = 20\n",
    "maxN = a if a > b else b\n",
    "print(maxN)"
   ]
  },
  {
   "attachments": {},
   "cell_type": "markdown",
   "id": "4a4ed30c",
   "metadata": {},
   "source": [
    "## Dictionary"
   ]
  },
  {
   "cell_type": "code",
   "execution_count": 46,
   "id": "00c5ad3d",
   "metadata": {},
   "outputs": [
    {
     "name": "stdout",
     "output_type": "stream",
     "text": [
      "{'a': 100, 'b': 200, 'c': 300}\n",
      "{'a': 200, 'b': 300}\n",
      "200\n",
      "300\n"
     ]
    },
    {
     "ename": "KeyError",
     "evalue": "'c'",
     "output_type": "error",
     "traceback": [
      "\u001b[1;31m---------------------------------------------------------------------------\u001b[0m",
      "\u001b[1;31mKeyError\u001b[0m                                  Traceback (most recent call last)",
      "\u001b[1;32m~\\AppData\\Local\\Temp/ipykernel_11184/2705223669.py\u001b[0m in \u001b[0;36m<module>\u001b[1;34m\u001b[0m\n\u001b[0;32m      5\u001b[0m \u001b[0mprint\u001b[0m\u001b[1;33m(\u001b[0m\u001b[0mdict1\u001b[0m\u001b[1;33m[\u001b[0m\u001b[1;34m'a'\u001b[0m\u001b[1;33m]\u001b[0m\u001b[1;33m)\u001b[0m\u001b[1;33m\u001b[0m\u001b[1;33m\u001b[0m\u001b[0m\n\u001b[0;32m      6\u001b[0m \u001b[0mprint\u001b[0m\u001b[1;33m(\u001b[0m\u001b[0mdict1\u001b[0m\u001b[1;33m[\u001b[0m\u001b[1;34m'b'\u001b[0m\u001b[1;33m]\u001b[0m\u001b[1;33m)\u001b[0m\u001b[1;33m\u001b[0m\u001b[1;33m\u001b[0m\u001b[0m\n\u001b[1;32m----> 7\u001b[1;33m \u001b[0mprint\u001b[0m\u001b[1;33m(\u001b[0m\u001b[0mdict1\u001b[0m\u001b[1;33m[\u001b[0m\u001b[1;34m'c'\u001b[0m\u001b[1;33m]\u001b[0m\u001b[1;33m)\u001b[0m\u001b[1;33m\u001b[0m\u001b[1;33m\u001b[0m\u001b[0m\n\u001b[0m",
      "\u001b[1;31mKeyError\u001b[0m: 'c'"
     ]
    }
   ],
   "source": [
    "dict1 = {'a':100,'b':200,'c':300}\n",
    "print(dict1)\n",
    "dict1 = {'a':200,'b':400,'b':300}\n",
    "print(dict1)\n",
    "print(dict1['a'])\n",
    "print(dict1['b'])\n",
    "print(dict1['c'])"
   ]
  },
  {
   "cell_type": "markdown",
   "id": "b5f5d69d",
   "metadata": {},
   "source": [
    "## 更新"
   ]
  },
  {
   "cell_type": "code",
   "execution_count": 51,
   "id": "35a6a25e",
   "metadata": {},
   "outputs": [
    {
     "name": "stdout",
     "output_type": "stream",
     "text": [
      "{'a': 100, 'b': 200, 'c': 300}\n",
      "{'a': 100, 'b': 200, 'c': 500, 'd': 400, 'iphone': 35000}\n",
      "{'a': 'test', 'b': 200, 'c': 500, 'd': 400, 'iphone': 35000}\n",
      "{'a': 'test', 'b': 200, 'c': 500, 'd': 400, 'iphone': 35000, 'x': 900}\n"
     ]
    }
   ],
   "source": [
    "dict1 = {'a':100,'b':200,'c':300}\n",
    "print(dict1)\n",
    "add_dic={'d':400,'c':500}\n",
    "\n",
    "key1='iphone'\n",
    "price = 35000\n",
    "add_dic[key1] = price\n",
    "\n",
    "dict1.update(add_dic)#批次修改或新增\n",
    "print(dict1)\n",
    "dict1['a'] = 'test'\n",
    "print(dict1)\n",
    "dict1['x'] = 900 #key不存在新增\n",
    "print(dict1)"
   ]
  },
  {
   "cell_type": "markdown",
   "id": "a5eec1ad",
   "metadata": {},
   "source": [
    "## 刪除動作"
   ]
  },
  {
   "cell_type": "code",
   "execution_count": 57,
   "id": "9a8e6479",
   "metadata": {},
   "outputs": [
    {
     "name": "stdout",
     "output_type": "stream",
     "text": [
      "{'a': 100, 'b': 200, 'c': 300}\n",
      "{'a': 100, 'b': 200}\n",
      "<class 'dict_keys'>\n",
      "False\n",
      "True\n",
      "{}\n",
      "False\n"
     ]
    }
   ],
   "source": [
    "dict1 = {'a':100,'b':200,'c':300}\n",
    "print(dict1)\n",
    "del dict1['c']\n",
    "print(dict1)\n",
    "keyType = dict1.keys()\n",
    "print(type(keyType))\n",
    "print('c' in dict1.keys())\n",
    "print('a' in dict1.keys())\n",
    "dict1.clear()\n",
    "print(dict1)\n",
    "print('a' in dict1.keys())"
   ]
  },
  {
   "cell_type": "markdown",
   "id": "09a8e5e3",
   "metadata": {},
   "source": [
    "## ForEatch Dict"
   ]
  },
  {
   "cell_type": "code",
   "execution_count": 62,
   "id": "0643cde2",
   "metadata": {},
   "outputs": [
    {
     "name": "stdout",
     "output_type": "stream",
     "text": [
      "a\n",
      "b\n",
      "c\n",
      "=========\n",
      "100\n",
      "200\n",
      "300\n",
      "=========\n",
      "a\n",
      "b\n",
      "c\n",
      "=========\n",
      "100\n",
      "200\n",
      "300\n",
      "=========\n",
      "a 100\n",
      "b 200\n",
      "c 300\n"
     ]
    }
   ],
   "source": [
    "dict1 = {'a':100,'b':200,'c':300}\n",
    "for k in dict1.keys():\n",
    "    print(k)\n",
    "print(\"=========\")    \n",
    "for k in dict1.keys():\n",
    "    print(dict1[k])\n",
    "print(\"=========\")  \n",
    "for d in  dict1:\n",
    "    print(d)# 輸出key\n",
    "print(\"=========\")  \n",
    "for v in dict1.values():\n",
    "    print(v)\n",
    "print(\"=========\")  \n",
    "for key,value in dict1.items():\n",
    "    print(key,value)    "
   ]
  },
  {
   "cell_type": "markdown",
   "id": "a2a13694",
   "metadata": {},
   "source": [
    "## 函數"
   ]
  },
  {
   "cell_type": "code",
   "execution_count": 77,
   "id": "af0679e7",
   "metadata": {},
   "outputs": [
    {
     "name": "stdout",
     "output_type": "stream",
     "text": [
      "呼叫函數\n",
      "呼叫函數\n",
      "<class 'NoneType'>\n"
     ]
    }
   ],
   "source": [
    "def func1():\n",
    "    print(\"呼叫函數\")\n",
    "func1()    \n",
    "v = func1()\n",
    "print(type(v))"
   ]
  },
  {
   "cell_type": "code",
   "execution_count": 84,
   "id": "ef2b4cd4",
   "metadata": {},
   "outputs": [
    {
     "name": "stdout",
     "output_type": "stream",
     "text": [
      "30\n"
     ]
    }
   ],
   "source": [
    "def func2(v1,v2):\n",
    "    print(v1 + v2)\n",
    "func2(10,20)    \n",
    "# func2(10)    \n"
   ]
  },
  {
   "cell_type": "code",
   "execution_count": 94,
   "id": "6e759a73",
   "metadata": {},
   "outputs": [
    {
     "name": "stdout",
     "output_type": "stream",
     "text": [
      "12\n"
     ]
    }
   ],
   "source": [
    "def func3(v1,v2):\n",
    "    v3 = v1 * v2\n",
    "    return v3\n",
    "ans = func3(2,6)\n",
    "print(ans)"
   ]
  },
  {
   "cell_type": "code",
   "execution_count": 95,
   "id": "8c5d199a",
   "metadata": {},
   "outputs": [
    {
     "name": "stdout",
     "output_type": "stream",
     "text": [
      "<class 'tuple'>\n",
      "1 4\n"
     ]
    }
   ],
   "source": [
    "def func4():\n",
    "    return 1,2,3,4\n",
    "temp = func4()\n",
    "print(type(temp))\n",
    "a,b,c,d = temp\n",
    "print(a,b,c,d)"
   ]
  },
  {
   "cell_type": "code",
   "execution_count": null,
   "id": "743ae3f3",
   "metadata": {},
   "outputs": [],
   "source": []
  },
  {
   "cell_type": "code",
   "execution_count": null,
   "id": "dc986190",
   "metadata": {},
   "outputs": [],
   "source": []
  }
 ],
 "metadata": {
  "kernelspec": {
   "display_name": "Python 3 (ipykernel)",
   "language": "python",
   "name": "python3"
  },
  "language_info": {
   "codemirror_mode": {
    "name": "ipython",
    "version": 3
   },
   "file_extension": ".py",
   "mimetype": "text/x-python",
   "name": "python",
   "nbconvert_exporter": "python",
   "pygments_lexer": "ipython3",
   "version": "3.8.11"
  }
 },
 "nbformat": 4,
 "nbformat_minor": 5
}
