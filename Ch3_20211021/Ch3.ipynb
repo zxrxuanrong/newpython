{
 "cells": [
  {
   "attachments": {},
   "cell_type": "markdown",
   "id": "3a844cc2",
   "metadata": {},
   "source": [
    "# 邏輯運算符號"
   ]
  },
  {
   "cell_type": "code",
   "execution_count": 8,
   "id": "ad573f3f",
   "metadata": {},
   "outputs": [
    {
     "name": "stdout",
     "output_type": "stream",
     "text": [
      "cancel-1\n",
      "cancel-2\n",
      "cancel-3\n"
     ]
    }
   ],
   "source": [
    "a = 20\n",
    "if a >=12 and a < 18:\n",
    "    print(\"ok-1\")\n",
    "else:\n",
    "    print(\"cancel-1\")\n",
    "\n",
    "if 12 <= a < 18:\n",
    "    print(\"ok-2\")\n",
    "else:\n",
    "    print(\"cancel-2\")\n",
    "    \n",
    "if not a > 18:\n",
    "    print(\"ok-3\")\n",
    "else:\n",
    "    print(\"cancel-3\")\n",
    " "
   ]
  },
  {
   "cell_type": "code",
   "execution_count": 9,
   "id": "22136891",
   "metadata": {},
   "outputs": [
    {
     "name": "stdout",
     "output_type": "stream",
     "text": [
      "ok-1\n"
     ]
    }
   ],
   "source": [
    "a = 11\n",
    "if a >=12 or a <18:\n",
    "    print(\"ok-1\")\n",
    "else:\n",
    "    print(\"cancel-1\")"
   ]
  },
  {
   "cell_type": "code",
   "execution_count": 13,
   "id": "617b7cc4",
   "metadata": {},
   "outputs": [
    {
     "name": "stdout",
     "output_type": "stream",
     "text": [
      "2\n",
      "4\n"
     ]
    }
   ],
   "source": [
    "a = 20\n",
    "if a >= 12 and a < 18:\n",
    "    print(\"1\")\n",
    "else:\n",
    "    print(\"2\")\n",
    "    \n",
    "if 12 <= a < 18:\n",
    "    print(\"3\")\n",
    "else:\n",
    "    print(\"4\")"
   ]
  },
  {
   "cell_type": "markdown",
   "id": "deb099cf",
   "metadata": {},
   "source": [
    "## While"
   ]
  },
  {
   "cell_type": "code",
   "execution_count": 16,
   "id": "bdb43786",
   "metadata": {},
   "outputs": [
    {
     "name": "stdout",
     "output_type": "stream",
     "text": [
      "6\n",
      "5\n",
      "4\n",
      "3\n",
      "2\n",
      "1\n",
      "離開後a為: 0\n"
     ]
    }
   ],
   "source": [
    "a = 6\n",
    "while a > 0:    \n",
    "    print(a)\n",
    "    a -= 1\n",
    "print(\"離開後a為:\",a)    "
   ]
  },
  {
   "cell_type": "markdown",
   "id": "b195cf64",
   "metadata": {},
   "source": [
    "## For"
   ]
  },
  {
   "cell_type": "code",
   "execution_count": 17,
   "id": "51da0423",
   "metadata": {},
   "outputs": [
    {
     "name": "stdout",
     "output_type": "stream",
     "text": [
      "0\n",
      "1\n",
      "2\n",
      "3\n",
      "離開For之後: 3\n"
     ]
    }
   ],
   "source": [
    "for i in range(4):\n",
    "    print(i)\n",
    "print(\"離開For之後:\",i)    "
   ]
  },
  {
   "cell_type": "markdown",
   "id": "3b555d0b",
   "metadata": {},
   "source": [
    "## range(起始值,結束值不包含, 固定變化量)"
   ]
  },
  {
   "cell_type": "code",
   "execution_count": 18,
   "id": "32d8656c",
   "metadata": {},
   "outputs": [
    {
     "name": "stdout",
     "output_type": "stream",
     "text": [
      "4\n",
      "5\n",
      "6\n",
      "7\n",
      "離開後i: 7\n"
     ]
    }
   ],
   "source": [
    "for i in range(4,8):\n",
    "    print(i)\n",
    "print(\"離開後i:\",i)    "
   ]
  },
  {
   "cell_type": "code",
   "execution_count": 21,
   "id": "4287e1e1",
   "metadata": {},
   "outputs": [
    {
     "name": "stdout",
     "output_type": "stream",
     "text": [
      "4\n",
      "3\n",
      "2\n",
      "1\n",
      "離開後的i: 1\n"
     ]
    }
   ],
   "source": [
    "for i in range(4,0,-1):\n",
    "    print(i)\n",
    "print(\"離開後的i:\",i)    "
   ]
  },
  {
   "cell_type": "code",
   "execution_count": 22,
   "id": "a09153ce",
   "metadata": {},
   "outputs": [
    {
     "name": "stdout",
     "output_type": "stream",
     "text": [
      "4\n",
      "6\n",
      "離開後i為 6\n"
     ]
    }
   ],
   "source": [
    "for i in range(4,8,2):\n",
    "    print(i)\n",
    "print(\"離開後i為\",i)"
   ]
  },
  {
   "cell_type": "markdown",
   "id": "f65421c0",
   "metadata": {},
   "source": [
    "## break 與 continue"
   ]
  },
  {
   "cell_type": "code",
   "execution_count": 25,
   "id": "9f4ff181",
   "metadata": {},
   "outputs": [
    {
     "name": "stdout",
     "output_type": "stream",
     "text": [
      "a\n",
      "b\n",
      "out: c\n"
     ]
    }
   ],
   "source": [
    "i = ['a','b','c','d']\n",
    "for j in i:\n",
    "    if j == 'c':\n",
    "        break\n",
    "    print(j)\n",
    "print(\"out:\",j)    "
   ]
  },
  {
   "cell_type": "code",
   "execution_count": 26,
   "id": "7b3c3ddc",
   "metadata": {},
   "outputs": [
    {
     "name": "stdout",
     "output_type": "stream",
     "text": [
      "a\n",
      "b\n",
      "d\n",
      "out: d\n"
     ]
    }
   ],
   "source": [
    "i = ['a','b','c','d']\n",
    "for j in i:\n",
    "    if j == 'c':\n",
    "        continue\n",
    "    print(j)\n",
    "print(\"out:\",j)    \n",
    "        "
   ]
  },
  {
   "cell_type": "markdown",
   "id": "261d2171",
   "metadata": {},
   "source": [
    "## 字串"
   ]
  },
  {
   "cell_type": "code",
   "execution_count": 29,
   "id": "1a7bde20",
   "metadata": {},
   "outputs": [],
   "source": [
    "jsonStr = '{\"squadName\" : \"Super hero squad\"}'"
   ]
  },
  {
   "cell_type": "markdown",
   "id": "dfc222a0",
   "metadata": {},
   "source": [
    "### 跳脫字元"
   ]
  },
  {
   "cell_type": "code",
   "execution_count": 37,
   "id": "c2960497",
   "metadata": {},
   "outputs": [
    {
     "name": "stdout",
     "output_type": "stream",
     "text": [
      "This is \"Python\" !\n",
      "This is \"Python\" !\n",
      "test1 \n",
      " test2 \\test3\n"
     ]
    }
   ],
   "source": [
    "str = 'This is \"Python\" !'\n",
    "print(str)\n",
    "str = \"This is \\\"Python\\\" !\"\n",
    "print(str)\n",
    "str = \"test1 \\n test2 \\\\test3\"\n",
    "print(str)"
   ]
  },
  {
   "cell_type": "code",
   "execution_count": 45,
   "id": "12f713f9",
   "metadata": {},
   "outputs": [
    {
     "name": "stdout",
     "output_type": "stream",
     "text": [
      "昨日凌晨的發表會上，蘋果發表了多款重磅產品，\n",
      "括新一代MacBook Pro筆電，其中M1 Pro、M1 Max兩款自研晶片\"\"\"更是令人驚艷\"\"\"，\n",
      "號稱是世界上最強大的筆電處理器，Core i9效能都被比下去了。\n",
      "M1 Pro、M1 Max不僅配置了8大2小核心CPU，同時GPU亦大幅升級，M1 Max最高擁有32個核心，\n",
      "執行單元4096個，同步多執行緒最多98304個，每秒浮點運算10.4TFLOPS，\n",
      "紋理填充率每秒3270億，像素填充率每秒1640億。\n"
     ]
    }
   ],
   "source": [
    "str3 = \"\"\"昨日凌晨的發表會上，蘋果發表了多款重磅產品，\n",
    "括新一代MacBook Pro筆電，其中M1 Pro、M1 Max兩款自研晶片\n",
    "號稱是世界上最強大的筆電處理器，Core i9效能都被比下去了。\n",
    "M1 Pro、M1 Max不僅配置了8大2小核心CPU，同時GPU亦大幅升級，M1 Max最高擁有32個核心，\n",
    "執行單元4096個，同步多執行緒最多98304個，每秒浮點運算10.4TFLOPS，\n",
    "紋理填充率每秒3270億，像素填充率每秒1640億。\"\"\"\n",
    "print(str3)"
   ]
  },
  {
   "attachments": {
    "image.png": {
     "image/png": "[encoded data removed]"
    }
   },
   "cell_type": "markdown",
   "id": "d6abe45b",
   "metadata": {},
   "source": [
    "### 索引編號與取值\n",
    "![image.png](attachment:image.png)"
   ]
  },
  {
   "cell_type": "code",
   "execution_count": 61,
   "id": "d94e22c3",
   "metadata": {},
   "outputs": [
    {
     "name": "stdout",
     "output_type": "stream",
     "text": [
      "H\n",
      "l\n",
      "d\n",
      "l\n",
      "llo World\n",
      "Hel\n",
      "ell\n",
      "HloWrd\n",
      "dlroW olleH\n",
      "lroW\n",
      "olleH\n"
     ]
    }
   ],
   "source": [
    "str = \"Hello World\"\n",
    "print(str[0])\n",
    "print(str[2])\n",
    "print(str[-1])\n",
    "print(str[-2])\n",
    "print(str[2:])\n",
    "print(str[:3])\n",
    "print(str[1:4])\n",
    "print(str[::2])\n",
    "print(str[::-1])\n",
    "print(str[-2:-6:-1])\n",
    "print(str[-7::-1])"
   ]
  },
  {
   "cell_type": "code",
   "execution_count": 65,
   "id": "cf2f7efb",
   "metadata": {},
   "outputs": [
    {
     "name": "stdout",
     "output_type": "stream",
     "text": [
      "原本的字串 1: This is Python,That is Java;This is SQLite,That is MySQL\n",
      "\n",
      "is 替換 -:Th- - Python,That - Java;Th- - SQLite,That - MySQL\n",
      "原本的字串 2: Th- - Python,That - Java;Th- - SQLite,That - MySQL\n"
     ]
    }
   ],
   "source": [
    "str = \"This is Python,That is Java;This is SQLite,That is MySQL\"\n",
    "print(\"原本的字串 1:\",str)\n",
    "print()\n",
    "print(\"is 替換 -:\"+str.replace(\"is\",\"-\"))\n",
    "print(\"原本的字串 2:\",str)"
   ]
  },
  {
   "cell_type": "code",
   "execution_count": null,
   "id": "9d6afb98",
   "metadata": {},
   "outputs": [],
   "source": []
  }
 ],
 "metadata": {
  "kernelspec": {
   "display_name": "Python 3 (ipykernel)",
   "language": "python",
   "name": "python3"
  },
  "language_info": {
   "codemirror_mode": {
    "name": "ipython",
    "version": 3
   },
   "file_extension": ".py",
   "mimetype": "text/x-python",
   "name": "python",
   "nbconvert_exporter": "python",
   "pygments_lexer": "ipython3",
   "version": "3.8.11"
  }
 },
 "nbformat": 4,
 "nbformat_minor": 5
}
