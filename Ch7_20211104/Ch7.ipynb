{
 "cells": [
  {
   "attachments": {},
   "cell_type": "markdown",
   "id": "d9ea0a70",
   "metadata": {},
   "source": [
    "# 回家作業：支出最大與最小\n",
    "輸入四個月的支出金額後列出最多與最少的支出金額。"
   ]
  },
  {
   "cell_type": "code",
   "execution_count": 1,
   "id": "c2c6238d",
   "metadata": {},
   "outputs": [
    {
     "name": "stdout",
     "output_type": "stream",
     "text": [
      "請輸入1個月的支出金額5000\n",
      "請輸入2個月的支出金額4000\n",
      "請輸入3個月的支出金額3500\n",
      "請輸入4個月的支出金額7000\n",
      "max:7000\n",
      "min:3500\n",
      "19500\n",
      "[3500, 4000, 5000, 7000]\n",
      "7000\n",
      "3500\n"
     ]
    }
   ],
   "source": [
    "priceList=[]\n",
    "priceSum = 0\n",
    "for i in range(1,5):\n",
    "    p = int(input(f\"請輸入{i}個月的支出金額\"))\n",
    "    priceSum =priceSum + p\n",
    "    priceList.append(p)\n",
    "priceList.sort()   \n",
    "\n",
    "print(f\"max:{priceList[len(priceList)-1]}\") \n",
    "print(f\"min:{priceList[0]}\")\n",
    "print(priceSum)    \n",
    "print(priceList) \n",
    "print(max(priceList))    \n",
    "print(min(priceList)) "
   ]
  },
  {
   "attachments": {},
   "cell_type": "markdown",
   "id": "39bf4586",
   "metadata": {},
   "source": [
    "# 不固定接收數量\n",
    "( ) 內接收資料若是以 * 表示代表可以引入不定數量的參數：\n",
    "\n",
    "  一個*代表以 tuple 的方式引入\n",
    "  \n",
    "  兩個*代表以 dict 的方式引入\n",
    "  \n",
    "接收資料若需加入多個設定，這些設定請依照順序排列：\n",
    "\n",
    "第一個參數設定為接收值 \n",
    "\n",
    "第二個參數設定為初始值\n",
    "\n",
    "第三個參數設定為不固定值，可以是 tuple 或 dict 方式\n",
    "\n"
   ]
  },
  {
   "cell_type": "code",
   "execution_count": 14,
   "id": "d50bc4ac",
   "metadata": {},
   "outputs": [
    {
     "name": "stdout",
     "output_type": "stream",
     "text": [
      "arg1: 2\n",
      "arg2: 2\n",
      "arg3: (5, 6)\n"
     ]
    }
   ],
   "source": [
    "def func1(arg2,arg1='default',*arg3):\n",
    "    print(\"arg1:\",arg1)\n",
    "    print(\"arg2:\",arg1)\n",
    "    print(\"arg3:\",arg3)\n",
    "func1(1,2,5,6)"
   ]
  },
  {
   "cell_type": "code",
   "execution_count": 24,
   "id": "89d5fec7",
   "metadata": {},
   "outputs": [
    {
     "name": "stdout",
     "output_type": "stream",
     "text": [
      "arg1: 1\n",
      "arg2: ()\n",
      "arg1: 5\n",
      "arg2: (6, 1)\n"
     ]
    }
   ],
   "source": [
    "def func2(arg1=\"default\",*arg2):\n",
    "    print(\"arg1:\",arg1)\n",
    "    print(\"arg2:\",arg2)\n",
    "func2(1)\n",
    "func2(5,6,1)   "
   ]
  },
  {
   "cell_type": "code",
   "execution_count": 30,
   "id": "2cb0f9ab",
   "metadata": {},
   "outputs": [
    {
     "name": "stdout",
     "output_type": "stream",
     "text": [
      "arg1: 1\n",
      "arg2: default\n",
      "arg3: {}\n",
      "arg1: 1\n",
      "arg2: 2\n",
      "arg3: {}\n",
      "arg1: 1\n",
      "arg2: 2\n",
      "arg3: {'age': 18, 'name': 'ken'}\n",
      "age 18\n",
      "name ken\n"
     ]
    }
   ],
   "source": [
    "def func3(arg1,arg2=\"default\",**arg3):\n",
    "    print(\"arg1:\",arg1)\n",
    "    print(\"arg2:\",arg2)\n",
    "    print(\"arg3:\",arg3)\n",
    "    for k,v in arg3.items():\n",
    "        print(k,v)\n",
    "func3(1)    \n",
    "func3(1,2)\n",
    "func3(1,2,age=18,name=\"ken\")    "
   ]
  },
  {
   "cell_type": "markdown",
   "id": "3878b9dd",
   "metadata": {},
   "source": [
    "## 預設值為物件時注意"
   ]
  },
  {
   "cell_type": "code",
   "execution_count": 35,
   "id": "e23af5d4",
   "metadata": {},
   "outputs": [
    {
     "name": "stdout",
     "output_type": "stream",
     "text": [
      "10\t\n",
      "===================\n",
      "10\t20\t\n",
      "===================\n",
      "30\t\n",
      "===================\n",
      "10\t20\t40\t\n",
      "===================\n"
     ]
    }
   ],
   "source": [
    "def func1(v,myList=[]):\n",
    "    myList.append(v)\n",
    "    for v in myList:\n",
    "        print(v,end='\\t')\n",
    "    print(\"\\n===================\")    \n",
    "    \n",
    "func1(10)\n",
    "func1(20)\n",
    "func1(30,[])\n",
    "func1(40)\n"
   ]
  },
  {
   "cell_type": "markdown",
   "id": "9d134192",
   "metadata": {},
   "source": [
    "# 匿名函數"
   ]
  },
  {
   "cell_type": "code",
   "execution_count": 38,
   "id": "4ef0177e",
   "metadata": {},
   "outputs": [
    {
     "name": "stdout",
     "output_type": "stream",
     "text": [
      "432\n",
      "432\n"
     ]
    }
   ],
   "source": [
    "def f1(x,y,z):\n",
    "    return x + y + z\n",
    "print(f1(2,30,400))\n",
    "#匿名函數\n",
    "f = lambda x,y,z:x+y+z\n",
    "print(f(2,30,400))"
   ]
  },
  {
   "cell_type": "code",
   "execution_count": 39,
   "id": "9de330f2",
   "metadata": {},
   "outputs": [
    {
     "name": "stdout",
     "output_type": "stream",
     "text": [
      "V1V2test3\n"
     ]
    }
   ],
   "source": [
    "mz = (lambda a=\"Test1\",b=\"Test2\",c=\"test3\":a+b+c)\n",
    "print(mz(\"V1\",\"V2\"))"
   ]
  },
  {
   "cell_type": "code",
   "execution_count": 44,
   "id": "102a72dd",
   "metadata": {},
   "outputs": [
    {
     "name": "stdout",
     "output_type": "stream",
     "text": [
      "<class 'function'>\n",
      "9\n",
      "<class 'function'>\n",
      "27\n",
      "<class 'function'>\n",
      "81\n",
      "9\n"
     ]
    }
   ],
   "source": [
    "math1 = lambda x:x**2\n",
    "fList=[math1,lambda x:x**3,lambda x:x**4]\n",
    "for f in fList:\n",
    "    print(type(f))\n",
    "    print(f(3))\n",
    "print(fList[0](3))"
   ]
  },
  {
   "cell_type": "code",
   "execution_count": 45,
   "id": "ce8d7216",
   "metadata": {},
   "outputs": [
    {
     "name": "stdout",
     "output_type": "stream",
     "text": [
      "9\n",
      "27\n",
      "81\n"
     ]
    }
   ],
   "source": [
    "def f1(x):\n",
    "    return x ** 2\n",
    "def f2(x):\n",
    "    return x ** 3\n",
    "def f3(x):\n",
    "    return x ** 4\n",
    "funList= [f1,f2,f3]\n",
    "for f in funList:\n",
    "    print(f(3))"
   ]
  },
  {
   "cell_type": "code",
   "execution_count": 46,
   "id": "1aa99eea",
   "metadata": {},
   "outputs": [
    {
     "name": "stdout",
     "output_type": "stream",
     "text": [
      "2\n",
      "3\n"
     ]
    }
   ],
   "source": [
    "testlm = (lambda x,y:x if x < y else y)\n",
    "print(testlm(2,5))\n",
    "print(testlm(7,3))"
   ]
  },
  {
   "cell_type": "markdown",
   "id": "8f2f1b79",
   "metadata": {},
   "source": [
    "## 模擬Switch"
   ]
  },
  {
   "cell_type": "code",
   "execution_count": 49,
   "id": "cd6f2976",
   "metadata": {},
   "outputs": [
    {
     "name": "stdout",
     "output_type": "stream",
     "text": [
      "input:50\n",
      "E\n"
     ]
    }
   ],
   "source": [
    "score= int(input(\"input:\"))\n",
    "level = score // 10\n",
    "{\n",
    "    10:lambda: print(\"Perfect\"),\n",
    "    9: lambda: print(\"A\"),\n",
    "    8: lambda: print(\"B\"),\n",
    "    7: lambda: print(\"C\"),\n",
    "    6: lambda: print(\"D\"),\n",
    "}.get(level,lambda:print('E'))()"
   ]
  },
  {
   "cell_type": "markdown",
   "id": "926e3ad3",
   "metadata": {},
   "source": [
    "# Map與Filter\n",
    "+ 用法：map(function, sequence)\n",
    "+ 將複合性資料逐一取出項目再傳入到 function 操作，最後以 list 作為回傳值。\n",
    "+ filter( ) 函數用於過濾 list，過濾掉不符合條件的元素，返回由符合條件元素組成的新 list。\n",
    "+ filter 接收兩個參數，第一個為函數，第二個為 list，list 的每個元素作為參數傳遞給函數進行分析，然後返回 True 或 False，最後將返回 True 的元素放到新list中。"
   ]
  },
  {
   "cell_type": "markdown",
   "id": "49040eb7",
   "metadata": {},
   "source": [
    "## Map"
   ]
  },
  {
   "cell_type": "code",
   "execution_count": 58,
   "id": "8d1f274e",
   "metadata": {},
   "outputs": [
    {
     "name": "stdout",
     "output_type": "stream",
     "text": [
      "[2, 4, 6, 8]\n",
      "[2, 4, 6, 8]\n",
      "[1, 2, 3, 4, 1, 2, 3, 4]\n"
     ]
    }
   ],
   "source": [
    "def multiply2(x):     \n",
    "    return x * 2 \n",
    "a = map(multiply2,[1,2,3,4])\n",
    "list1 = list(a)\n",
    "print(list1)\n",
    "a = map(lambda x :x *2,[1,2,3,4])\n",
    "list2 = list(a)\n",
    "print(list2)\n",
    "b = [1,2,3,4]\n",
    "c = b * 2\n",
    "print(c)"
   ]
  },
  {
   "cell_type": "code",
   "execution_count": 63,
   "id": "0b0da51f",
   "metadata": {},
   "outputs": [
    {
     "name": "stdout",
     "output_type": "stream",
     "text": [
      "['python', 'java']\n",
      "[10, 8]\n",
      "[True, False]\n",
      "[100, 80]\n"
     ]
    }
   ],
   "source": [
    "dictList = [{'name':'python','point':10},\n",
    "            {'name':'java','point':8}]\n",
    "list3 = map(lambda x :x['name'],dictList)    \n",
    "print(list(list3))\n",
    "list4 = map(lambda x :x[\"point\"],dictList)\n",
    "print(list(list4))\n",
    "list5 = map(lambda x :x['name'] == 'python',dictList)    \n",
    "print(list(list5))\n",
    "list6 = map(lambda x :x[\"point\"] * 10,dictList)\n",
    "print(list(list6))"
   ]
  },
  {
   "cell_type": "markdown",
   "id": "f1014527",
   "metadata": {},
   "source": [
    "## Filter"
   ]
  },
  {
   "cell_type": "code",
   "execution_count": 73,
   "id": "c9646270",
   "metadata": {},
   "outputs": [
    {
     "name": "stdout",
     "output_type": "stream",
     "text": [
      "[2, 4, 6]\n",
      "[{'name': 'python', 'point': 10}]\n"
     ]
    }
   ],
   "source": [
    "a = [1,2,3,4,5,6]\n",
    "list7 = filter(lambda x :x%2 == 0,a )\n",
    "print(list(list7))\n",
    "dictList = [{'name':'python','point':10},\n",
    "            {'name':'java','point':8}]\n",
    "list8 = filter(lambda x :x['name'] == 'python',dictList)\n",
    "print(list(list8))"
   ]
  },
  {
   "cell_type": "markdown",
   "id": "f8156e28",
   "metadata": {},
   "source": [
    "# 模組與套件"
   ]
  },
  {
   "cell_type": "markdown",
   "id": "20cc00ab",
   "metadata": {},
   "source": [
    "引用 python 檔案就以檔案的主檔案名稱作為模組名稱，\n",
    "\n",
    "+ 共有以下三種方式：\n",
    "+ import 模組\n",
    "+ import 模組 as 新模組名稱\n",
    "+ from 模組 import 模組內方法\n",
    "  + 不建議 from 模組 import *，易造成名稱衝突!"
   ]
  },
  {
   "cell_type": "code",
   "execution_count": 80,
   "id": "c1defc21",
   "metadata": {},
   "outputs": [
    {
     "name": "stdout",
     "output_type": "stream",
     "text": [
      "Create\n",
      "func 1\n"
     ]
    }
   ],
   "source": [
    "import modu\n",
    "obj = modu.test1()\n",
    "modu.fun1()"
   ]
  },
  {
   "cell_type": "code",
   "execution_count": null,
   "id": "d29841e9",
   "metadata": {},
   "outputs": [],
   "source": []
  }
 ],
 "metadata": {
  "kernelspec": {
   "display_name": "Python 3 (ipykernel)",
   "language": "python",
   "name": "python3"
  },
  "language_info": {
   "codemirror_mode": {
    "name": "ipython",
    "version": 3
   },
   "file_extension": ".py",
   "mimetype": "text/x-python",
   "name": "python",
   "nbconvert_exporter": "python",
   "pygments_lexer": "ipython3",
   "version": "3.8.11"
  }
 },
 "nbformat": 4,
 "nbformat_minor": 5
}
